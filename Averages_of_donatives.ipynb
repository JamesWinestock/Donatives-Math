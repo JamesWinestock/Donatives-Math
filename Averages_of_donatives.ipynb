{
 "cells": [
  {
   "cell_type": "code",
   "execution_count": 1,
   "metadata": {},
   "outputs": [],
   "source": [
    "import collections\n",
    "import random\n",
    "\n",
    "from pprint import pprint"
   ]
  },
  {
   "cell_type": "code",
   "execution_count": 2,
   "metadata": {},
   "outputs": [],
   "source": [
    "import statistics"
   ]
  },
  {
   "cell_type": "code",
   "execution_count": 3,
   "metadata": {},
   "outputs": [],
   "source": [
    "#without double pay\n",
    "withoutDP = [120,\n",
    "70,\n",
    "70,\n",
    "80,\n",
    "270,\n",
    "250,\n",
    "125,\n",
    "250,\n",
    "250,\n",
    "420,\n",
    "300,\n",
    "500,\n",
    "300,\n",
    "250,\n",
    "250,\n",
    "150,\n",
    "450,\n",
    "1000]"
   ]
  },
  {
   "cell_type": "code",
   "execution_count": 4,
   "metadata": {},
   "outputs": [],
   "source": [
    "#with double pay and campaign distribution\n",
    "withDP = [120,\n",
    "70,\n",
    "70,\n",
    "80,\n",
    "270,\n",
    "250,\n",
    "125,\n",
    "2380,\n",
    "250,\n",
    "1485,\n",
    "300,\n",
    "1565,\n",
    "300,\n",
    "250,\n",
    "250,\n",
    "150,\n",
    "450,\n",
    "3000]"
   ]
  },
  {
   "cell_type": "code",
   "execution_count": 5,
   "metadata": {},
   "outputs": [],
   "source": [
    "withoutOutliers = [\n",
    "    120,\n",
    "70,\n",
    "70,\n",
    "80,\n",
    "270,\n",
    "250,\n",
    "125,\n",
    "250,\n",
    "300,\n",
    "300,\n",
    "250,\n",
    "250,\n",
    "150,\n",
    "450\n",
    "]"
   ]
  },
  {
   "cell_type": "code",
   "execution_count": 6,
   "metadata": {},
   "outputs": [
    {
     "data": {
      "text/plain": [
       "631.3888888888889"
      ]
     },
     "execution_count": 6,
     "metadata": {},
     "output_type": "execute_result"
    }
   ],
   "source": [
    "statistics.mean(withDP)"
   ]
  },
  {
   "cell_type": "code",
   "execution_count": 7,
   "metadata": {},
   "outputs": [
    {
     "data": {
      "text/plain": [
       "283.6111111111111"
      ]
     },
     "execution_count": 7,
     "metadata": {},
     "output_type": "execute_result"
    }
   ],
   "source": [
    "statistics.mean(withoutDP)"
   ]
  },
  {
   "cell_type": "code",
   "execution_count": 8,
   "metadata": {},
   "outputs": [
    {
     "data": {
      "text/plain": [
       "209.64285714285714"
      ]
     },
     "execution_count": 8,
     "metadata": {},
     "output_type": "execute_result"
    }
   ],
   "source": [
    "statistics.mean(withoutOutliers)"
   ]
  },
  {
   "cell_type": "code",
   "execution_count": 9,
   "metadata": {},
   "outputs": [
    {
     "data": {
      "text/plain": [
       "250.0"
      ]
     },
     "execution_count": 9,
     "metadata": {},
     "output_type": "execute_result"
    }
   ],
   "source": [
    "statistics.median(withDP)"
   ]
  },
  {
   "cell_type": "code",
   "execution_count": 10,
   "metadata": {},
   "outputs": [
    {
     "data": {
      "text/plain": [
       "250.0"
      ]
     },
     "execution_count": 10,
     "metadata": {},
     "output_type": "execute_result"
    }
   ],
   "source": [
    "statistics.median(withoutDP)"
   ]
  },
  {
   "cell_type": "code",
   "execution_count": 11,
   "metadata": {},
   "outputs": [
    {
     "data": {
      "text/plain": [
       "250.0"
      ]
     },
     "execution_count": 11,
     "metadata": {},
     "output_type": "execute_result"
    }
   ],
   "source": [
    "statistics.median(withoutOutliers)"
   ]
  },
  {
   "cell_type": "code",
   "execution_count": 12,
   "metadata": {},
   "outputs": [
    {
     "data": {
      "text/plain": [
       "250"
      ]
     },
     "execution_count": 12,
     "metadata": {},
     "output_type": "execute_result"
    }
   ],
   "source": [
    "statistics.mode(withoutOutliers)"
   ]
  },
  {
   "cell_type": "code",
   "execution_count": 13,
   "metadata": {},
   "outputs": [
    {
     "data": {
      "text/plain": [
       "250"
      ]
     },
     "execution_count": 13,
     "metadata": {},
     "output_type": "execute_result"
    }
   ],
   "source": [
    "statistics.mode(withoutDP)"
   ]
  },
  {
   "cell_type": "code",
   "execution_count": 14,
   "metadata": {},
   "outputs": [
    {
     "data": {
      "text/plain": [
       "250"
      ]
     },
     "execution_count": 14,
     "metadata": {},
     "output_type": "execute_result"
    }
   ],
   "source": [
    "statistics.mode(withDP)"
   ]
  },
  {
   "cell_type": "code",
   "execution_count": 15,
   "metadata": {},
   "outputs": [],
   "source": [
    "for x in withDP:\n",
    "    x * 2"
   ]
  },
  {
   "cell_type": "code",
   "execution_count": 16,
   "metadata": {},
   "outputs": [],
   "source": [
    "#Centurions and Equestrians with double pay\n",
    "CwithDP = [240, 140, 140, 160, 540, 500, 250, 4760, 500, 2970, 600, 3130, 600, 500, 500, 300, 900, 4000]\n",
    "\n",
    "EwithDP = [360, 210, 210, 240, 810, 750, 375, 7140, 750, 7830, 900, 4695, 900, 750, 750, 450, 1350, 7000]"
   ]
  },
  {
   "cell_type": "code",
   "execution_count": 17,
   "metadata": {},
   "outputs": [
    {
     "name": "stdout",
     "output_type": "stream",
     "text": [
      "[240, 140, 140, 160, 540, 500, 250, 4760, 500, 2970, 600, 3130, 600, 500, 500, 300, 900, 4000]\n",
      "[360, 210, 210, 240, 810, 750, 375, 7140, 750, 7830, 900, 4695, 900, 750, 750, 450, 1350, 7000]\n"
     ]
    }
   ],
   "source": [
    "print(CwithDP)\n",
    "print(EwithDP)"
   ]
  },
  {
   "cell_type": "code",
   "execution_count": 18,
   "metadata": {},
   "outputs": [],
   "source": [
    "#Centurions without double pay\n",
    "CwithoutDP = [x*2 for x in withoutDP]\n",
    "EwithoutDP = [x*3 for x in withoutDP]"
   ]
  },
  {
   "cell_type": "code",
   "execution_count": 19,
   "metadata": {},
   "outputs": [
    {
     "data": {
      "text/plain": [
       "[360,\n",
       " 210,\n",
       " 210,\n",
       " 240,\n",
       " 810,\n",
       " 750,\n",
       " 375,\n",
       " 750,\n",
       " 750,\n",
       " 1260,\n",
       " 900,\n",
       " 1500,\n",
       " 900,\n",
       " 750,\n",
       " 750,\n",
       " 450,\n",
       " 1350,\n",
       " 3000]"
      ]
     },
     "execution_count": 19,
     "metadata": {},
     "output_type": "execute_result"
    }
   ],
   "source": [
    "CwithoutDP\n",
    "\n",
    "EwithoutDP"
   ]
  },
  {
   "cell_type": "code",
   "execution_count": 20,
   "metadata": {},
   "outputs": [],
   "source": [
    "CwithoutOutliers = [x*2 for x in withoutOutliers]\n",
    "EwithoutOutliers = [x*3 for x in withoutOutliers]"
   ]
  },
  {
   "cell_type": "code",
   "execution_count": 21,
   "metadata": {},
   "outputs": [
    {
     "data": {
      "text/plain": [
       "[360, 210, 210, 240, 810, 750, 375, 750, 900, 900, 750, 750, 450, 1350]"
      ]
     },
     "execution_count": 21,
     "metadata": {},
     "output_type": "execute_result"
    }
   ],
   "source": [
    "#Centurions without outliers\n",
    "CwithoutOutliers\n",
    "EwithoutOutliers"
   ]
  },
  {
   "cell_type": "code",
   "execution_count": 22,
   "metadata": {},
   "outputs": [
    {
     "data": {
      "text/plain": [
       "500.0"
      ]
     },
     "execution_count": 22,
     "metadata": {},
     "output_type": "execute_result"
    }
   ],
   "source": [
    "statistics.median(CwithoutDP)"
   ]
  },
  {
   "cell_type": "code",
   "execution_count": 23,
   "metadata": {},
   "outputs": [
    {
     "data": {
      "text/plain": [
       "500.0"
      ]
     },
     "execution_count": 23,
     "metadata": {},
     "output_type": "execute_result"
    }
   ],
   "source": [
    "statistics.median(CwithoutOutliers)"
   ]
  },
  {
   "cell_type": "code",
   "execution_count": 24,
   "metadata": {},
   "outputs": [
    {
     "data": {
      "text/plain": [
       "500.0"
      ]
     },
     "execution_count": 24,
     "metadata": {},
     "output_type": "execute_result"
    }
   ],
   "source": [
    "statistics.median(CwithDP)"
   ]
  },
  {
   "cell_type": "code",
   "execution_count": 25,
   "metadata": {},
   "outputs": [
    {
     "data": {
      "text/plain": [
       "1151.6666666666667"
      ]
     },
     "execution_count": 25,
     "metadata": {},
     "output_type": "execute_result"
    }
   ],
   "source": [
    "statistics.mean(CwithDP)"
   ]
  },
  {
   "cell_type": "code",
   "execution_count": 26,
   "metadata": {},
   "outputs": [
    {
     "data": {
      "text/plain": [
       "567.2222222222222"
      ]
     },
     "execution_count": 26,
     "metadata": {},
     "output_type": "execute_result"
    }
   ],
   "source": [
    "statistics.mean(CwithoutDP)"
   ]
  },
  {
   "cell_type": "code",
   "execution_count": 27,
   "metadata": {},
   "outputs": [
    {
     "data": {
      "text/plain": [
       "419.2857142857143"
      ]
     },
     "execution_count": 27,
     "metadata": {},
     "output_type": "execute_result"
    }
   ],
   "source": [
    "statistics.mean(CwithoutOutliers)"
   ]
  },
  {
   "cell_type": "code",
   "execution_count": 28,
   "metadata": {},
   "outputs": [
    {
     "data": {
      "text/plain": [
       "750.0"
      ]
     },
     "execution_count": 28,
     "metadata": {},
     "output_type": "execute_result"
    }
   ],
   "source": [
    "statistics.median(EwithoutDP)"
   ]
  },
  {
   "cell_type": "code",
   "execution_count": 29,
   "metadata": {},
   "outputs": [
    {
     "data": {
      "text/plain": [
       "850.8333333333334"
      ]
     },
     "execution_count": 29,
     "metadata": {},
     "output_type": "execute_result"
    }
   ],
   "source": [
    "statistics.mean(EwithoutDP)"
   ]
  },
  {
   "cell_type": "code",
   "execution_count": 30,
   "metadata": {},
   "outputs": [
    {
     "data": {
      "text/plain": [
       "628.9285714285714"
      ]
     },
     "execution_count": 30,
     "metadata": {},
     "output_type": "execute_result"
    }
   ],
   "source": [
    "statistics.mean(EwithoutOutliers)"
   ]
  },
  {
   "cell_type": "code",
   "execution_count": 31,
   "metadata": {},
   "outputs": [
    {
     "data": {
      "text/plain": [
       "1970.5555555555557"
      ]
     },
     "execution_count": 31,
     "metadata": {},
     "output_type": "execute_result"
    }
   ],
   "source": [
    "statistics.mean(EwithDP)"
   ]
  },
  {
   "cell_type": "code",
   "execution_count": 32,
   "metadata": {},
   "outputs": [],
   "source": [
    "mill_pompeii = 1810"
   ]
  },
  {
   "cell_type": "code",
   "execution_count": 33,
   "metadata": {},
   "outputs": [],
   "source": [
    "mill_suessa = 1572.5"
   ]
  },
  {
   "cell_type": "code",
   "execution_count": 34,
   "metadata": {},
   "outputs": [],
   "source": [
    "bar = 180"
   ]
  },
  {
   "cell_type": "code",
   "execution_count": 35,
   "metadata": {},
   "outputs": [],
   "source": [
    "rs_olive_mill_pompeii = [x/mill_pompeii for x in withDP]"
   ]
  },
  {
   "cell_type": "code",
   "execution_count": 36,
   "metadata": {},
   "outputs": [],
   "source": [
    "rs_olive_mill_suessa = [x/mill_suessa for x in withDP]"
   ]
  },
  {
   "cell_type": "code",
   "execution_count": 37,
   "metadata": {},
   "outputs": [
    {
     "data": {
      "text/plain": [
       "[0.06629834254143646,\n",
       " 0.03867403314917127,\n",
       " 0.03867403314917127,\n",
       " 0.04419889502762431,\n",
       " 0.14917127071823205,\n",
       " 0.13812154696132597,\n",
       " 0.06906077348066299,\n",
       " 1.3149171270718232,\n",
       " 0.13812154696132597,\n",
       " 0.8204419889502762,\n",
       " 0.16574585635359115,\n",
       " 0.8646408839779005,\n",
       " 0.16574585635359115,\n",
       " 0.13812154696132597,\n",
       " 0.13812154696132597,\n",
       " 0.08287292817679558,\n",
       " 0.24861878453038674,\n",
       " 1.6574585635359116]"
      ]
     },
     "execution_count": 37,
     "metadata": {},
     "output_type": "execute_result"
    }
   ],
   "source": [
    "rs_olive_mill_pompeii"
   ]
  },
  {
   "cell_type": "code",
   "execution_count": 38,
   "metadata": {},
   "outputs": [
    {
     "data": {
      "text/plain": [
       "[0.07631160572337042,\n",
       " 0.04451510333863275,\n",
       " 0.04451510333863275,\n",
       " 0.05087440381558029,\n",
       " 0.17170111287758347,\n",
       " 0.1589825119236884,\n",
       " 0.0794912559618442,\n",
       " 1.5135135135135136,\n",
       " 0.1589825119236884,\n",
       " 0.9443561208267091,\n",
       " 0.1907790143084261,\n",
       " 0.9952305246422893,\n",
       " 0.1907790143084261,\n",
       " 0.1589825119236884,\n",
       " 0.1589825119236884,\n",
       " 0.09538950715421304,\n",
       " 0.2861685214626391,\n",
       " 1.9077901430842608]"
      ]
     },
     "execution_count": 38,
     "metadata": {},
     "output_type": "execute_result"
    }
   ],
   "source": [
    "rs_olive_mill_suessa"
   ]
  },
  {
   "cell_type": "code",
   "execution_count": 39,
   "metadata": {},
   "outputs": [],
   "source": [
    "c_olive_mill_pompeii = [x/mill_pompeii for x in CwithDP]"
   ]
  },
  {
   "cell_type": "code",
   "execution_count": 40,
   "metadata": {},
   "outputs": [],
   "source": [
    "c_olive_mill_suessa = [x/mill_suessa for x in CwithDP]"
   ]
  },
  {
   "cell_type": "code",
   "execution_count": 41,
   "metadata": {},
   "outputs": [
    {
     "data": {
      "text/plain": [
       "[0.13259668508287292,\n",
       " 0.07734806629834254,\n",
       " 0.07734806629834254,\n",
       " 0.08839779005524862,\n",
       " 0.2983425414364641,\n",
       " 0.27624309392265195,\n",
       " 0.13812154696132597,\n",
       " 2.6298342541436464,\n",
       " 0.27624309392265195,\n",
       " 1.6408839779005524,\n",
       " 0.3314917127071823,\n",
       " 1.729281767955801,\n",
       " 0.3314917127071823,\n",
       " 0.27624309392265195,\n",
       " 0.27624309392265195,\n",
       " 0.16574585635359115,\n",
       " 0.4972375690607735,\n",
       " 2.2099447513812156]"
      ]
     },
     "execution_count": 41,
     "metadata": {},
     "output_type": "execute_result"
    }
   ],
   "source": [
    "c_olive_mill_pompeii"
   ]
  },
  {
   "cell_type": "code",
   "execution_count": 42,
   "metadata": {},
   "outputs": [
    {
     "data": {
      "text/plain": [
       "[0.15262321144674085,\n",
       " 0.0890302066772655,\n",
       " 0.0890302066772655,\n",
       " 0.10174880763116058,\n",
       " 0.34340222575516693,\n",
       " 0.3179650238473768,\n",
       " 0.1589825119236884,\n",
       " 3.027027027027027,\n",
       " 0.3179650238473768,\n",
       " 1.8887122416534181,\n",
       " 0.3815580286168522,\n",
       " 1.9904610492845787,\n",
       " 0.3815580286168522,\n",
       " 0.3179650238473768,\n",
       " 0.3179650238473768,\n",
       " 0.1907790143084261,\n",
       " 0.5723370429252782,\n",
       " 2.5437201907790143]"
      ]
     },
     "execution_count": 42,
     "metadata": {},
     "output_type": "execute_result"
    }
   ],
   "source": [
    "c_olive_mill_suessa"
   ]
  },
  {
   "cell_type": "code",
   "execution_count": 43,
   "metadata": {},
   "outputs": [],
   "source": [
    "e_olive_mill_pompeii = [x/mill_pompeii for x in EwithDP]"
   ]
  },
  {
   "cell_type": "code",
   "execution_count": 44,
   "metadata": {},
   "outputs": [],
   "source": [
    "e_olive_mill_suessa = [x/mill_suessa for x in EwithDP]"
   ]
  },
  {
   "cell_type": "code",
   "execution_count": 45,
   "metadata": {},
   "outputs": [
    {
     "data": {
      "text/plain": [
       "[0.19889502762430938,\n",
       " 0.11602209944751381,\n",
       " 0.11602209944751381,\n",
       " 0.13259668508287292,\n",
       " 0.44751381215469616,\n",
       " 0.4143646408839779,\n",
       " 0.20718232044198895,\n",
       " 3.9447513812154695,\n",
       " 0.4143646408839779,\n",
       " 4.3259668508287294,\n",
       " 0.4972375690607735,\n",
       " 2.5939226519337018,\n",
       " 0.4972375690607735,\n",
       " 0.4143646408839779,\n",
       " 0.4143646408839779,\n",
       " 0.24861878453038674,\n",
       " 0.7458563535911602,\n",
       " 3.867403314917127]"
      ]
     },
     "execution_count": 45,
     "metadata": {},
     "output_type": "execute_result"
    }
   ],
   "source": [
    "e_olive_mill_pompeii"
   ]
  },
  {
   "cell_type": "code",
   "execution_count": 46,
   "metadata": {
    "scrolled": true
   },
   "outputs": [
    {
     "data": {
      "text/plain": [
       "[0.2289348171701113,\n",
       " 0.13354531001589826,\n",
       " 0.13354531001589826,\n",
       " 0.15262321144674085,\n",
       " 0.5151033386327504,\n",
       " 0.4769475357710652,\n",
       " 0.2384737678855326,\n",
       " 4.54054054054054,\n",
       " 0.4769475357710652,\n",
       " 4.979332273449921,\n",
       " 0.5723370429252782,\n",
       " 2.985691573926868,\n",
       " 0.5723370429252782,\n",
       " 0.4769475357710652,\n",
       " 0.4769475357710652,\n",
       " 0.2861685214626391,\n",
       " 0.8585055643879174,\n",
       " 4.451510333863275]"
      ]
     },
     "execution_count": 46,
     "metadata": {},
     "output_type": "execute_result"
    }
   ],
   "source": [
    "e_olive_mill_suessa"
   ]
  },
  {
   "cell_type": "code",
   "execution_count": 47,
   "metadata": {},
   "outputs": [],
   "source": [
    "# rs_olive_mill_pompeii = [0.076,\n",
    "# 0.045,\n",
    "# 0.045,\n",
    "# 0.051,\n",
    "# 0.1721,\n",
    "# 0.159,\n",
    "# 0.079,\n",
    "# 0.159,\n",
    "# 0.159,\n",
    "# 0.944,\n",
    "# 0.19,\n",
    "# 0.995,\n",
    "# 0.190,\n",
    "# 0.159,\n",
    "# 0.159,\n",
    "# 0.095,\n",
    "# 0.286,\n",
    "# 1.907]"
   ]
  },
  {
   "cell_type": "code",
   "execution_count": 48,
   "metadata": {},
   "outputs": [],
   "source": [
    "rs_bar = [x/bar for x in withDP]"
   ]
  },
  {
   "cell_type": "code",
   "execution_count": 49,
   "metadata": {},
   "outputs": [],
   "source": [
    "c_bar = [x/bar for x in CwithDP]"
   ]
  },
  {
   "cell_type": "code",
   "execution_count": 50,
   "metadata": {},
   "outputs": [],
   "source": [
    "e_bar = [x/bar for x in EwithDP]"
   ]
  },
  {
   "cell_type": "code",
   "execution_count": 308,
   "metadata": {},
   "outputs": [
    {
     "data": {
      "text/plain": [
       "[0.6666666666666666,\n",
       " 0.3888888888888889,\n",
       " 0.3888888888888889,\n",
       " 0.4444444444444444,\n",
       " 1.5,\n",
       " 1.3888888888888888,\n",
       " 0.6944444444444444,\n",
       " 13.222222222222221,\n",
       " 1.3888888888888888,\n",
       " 8.25,\n",
       " 1.6666666666666667,\n",
       " 8.694444444444445,\n",
       " 1.6666666666666667,\n",
       " 1.3888888888888888,\n",
       " 1.3888888888888888,\n",
       " 0.8333333333333334,\n",
       " 2.5,\n",
       " 16.666666666666668]"
      ]
     },
     "execution_count": 308,
     "metadata": {},
     "output_type": "execute_result"
    }
   ],
   "source": [
    "rs_bar"
   ]
  },
  {
   "cell_type": "code",
   "execution_count": 52,
   "metadata": {},
   "outputs": [
    {
     "data": {
      "text/plain": [
       "1.3888888888888888"
      ]
     },
     "execution_count": 52,
     "metadata": {},
     "output_type": "execute_result"
    }
   ],
   "source": [
    "statistics.median(rs_bar)"
   ]
  },
  {
   "cell_type": "code",
   "execution_count": 53,
   "metadata": {},
   "outputs": [
    {
     "data": {
      "text/plain": [
       "3.507716049382716"
      ]
     },
     "execution_count": 53,
     "metadata": {},
     "output_type": "execute_result"
    }
   ],
   "source": [
    "statistics.mean(rs_bar)"
   ]
  },
  {
   "cell_type": "code",
   "execution_count": 54,
   "metadata": {},
   "outputs": [
    {
     "data": {
      "text/plain": [
       "[1.3333333333333333,\n",
       " 0.7777777777777778,\n",
       " 0.7777777777777778,\n",
       " 0.8888888888888888,\n",
       " 3.0,\n",
       " 2.7777777777777777,\n",
       " 1.3888888888888888,\n",
       " 26.444444444444443,\n",
       " 2.7777777777777777,\n",
       " 16.5,\n",
       " 3.3333333333333335,\n",
       " 17.38888888888889,\n",
       " 3.3333333333333335,\n",
       " 2.7777777777777777,\n",
       " 2.7777777777777777,\n",
       " 1.6666666666666667,\n",
       " 5.0,\n",
       " 22.22222222222222]"
      ]
     },
     "execution_count": 54,
     "metadata": {},
     "output_type": "execute_result"
    }
   ],
   "source": [
    "c_bar"
   ]
  },
  {
   "cell_type": "code",
   "execution_count": 55,
   "metadata": {},
   "outputs": [
    {
     "data": {
      "text/plain": [
       "2.7777777777777777"
      ]
     },
     "execution_count": 55,
     "metadata": {},
     "output_type": "execute_result"
    }
   ],
   "source": [
    "statistics.median(c_bar)"
   ]
  },
  {
   "cell_type": "code",
   "execution_count": 56,
   "metadata": {},
   "outputs": [
    {
     "data": {
      "text/plain": [
       "[2.0,\n",
       " 1.1666666666666667,\n",
       " 1.1666666666666667,\n",
       " 1.3333333333333333,\n",
       " 4.5,\n",
       " 4.166666666666667,\n",
       " 2.0833333333333335,\n",
       " 39.666666666666664,\n",
       " 4.166666666666667,\n",
       " 43.5,\n",
       " 5.0,\n",
       " 26.083333333333332,\n",
       " 5.0,\n",
       " 4.166666666666667,\n",
       " 4.166666666666667,\n",
       " 2.5,\n",
       " 7.5,\n",
       " 38.888888888888886]"
      ]
     },
     "execution_count": 56,
     "metadata": {},
     "output_type": "execute_result"
    }
   ],
   "source": [
    "e_bar"
   ]
  },
  {
   "cell_type": "code",
   "execution_count": 57,
   "metadata": {},
   "outputs": [
    {
     "data": {
      "text/plain": [
       "4.166666666666667"
      ]
     },
     "execution_count": 57,
     "metadata": {},
     "output_type": "execute_result"
    }
   ],
   "source": [
    "statistics.median(e_bar)"
   ]
  },
  {
   "cell_type": "code",
   "execution_count": 58,
   "metadata": {},
   "outputs": [
    {
     "data": {
      "text/plain": [
       "10.94753086419753"
      ]
     },
     "execution_count": 58,
     "metadata": {},
     "output_type": "execute_result"
    }
   ],
   "source": [
    "statistics.mean(e_bar)"
   ]
  },
  {
   "cell_type": "code",
   "execution_count": 59,
   "metadata": {},
   "outputs": [
    {
     "data": {
      "text/plain": [
       "0.34883364027010433"
      ]
     },
     "execution_count": 59,
     "metadata": {},
     "output_type": "execute_result"
    }
   ],
   "source": [
    "statistics.mean(rs_olive_mill_pompeii)"
   ]
  },
  {
   "cell_type": "code",
   "execution_count": 60,
   "metadata": {},
   "outputs": [
    {
     "data": {
      "text/plain": [
       "0.4015191662250486"
      ]
     },
     "execution_count": 60,
     "metadata": {},
     "output_type": "execute_result"
    }
   ],
   "source": [
    "statistics.mean(rs_olive_mill_suessa)"
   ]
  },
  {
   "cell_type": "code",
   "execution_count": 61,
   "metadata": {},
   "outputs": [
    {
     "data": {
      "text/plain": [
       "0.13812154696132597"
      ]
     },
     "execution_count": 61,
     "metadata": {},
     "output_type": "execute_result"
    }
   ],
   "source": [
    "statistics.median(rs_olive_mill_pompeii)"
   ]
  },
  {
   "cell_type": "code",
   "execution_count": 62,
   "metadata": {},
   "outputs": [],
   "source": [
    "rs_olive_mill_pompeii_no_outliers = [0.06629834254143646,\n",
    " 0.03867403314917127,\n",
    " 0.03867403314917127,\n",
    " 0.04419889502762431,\n",
    " 0.14917127071823205,\n",
    " 0.13812154696132597,\n",
    " 0.06906077348066299,\n",
    " 0.13812154696132597,\n",
    " 0.13812154696132597,\n",
    " 0.16574585635359115,\n",
    " 0.16574585635359115,\n",
    " 0.13812154696132597,\n",
    " 0.13812154696132597,\n",
    " 0.08287292817679558,\n",
    " 0.24861878453038674]"
   ]
  },
  {
   "cell_type": "code",
   "execution_count": 63,
   "metadata": {},
   "outputs": [
    {
     "data": {
      "text/plain": [
       "0.11731123388581953"
      ]
     },
     "execution_count": 63,
     "metadata": {},
     "output_type": "execute_result"
    }
   ],
   "source": [
    "statistics.mean(rs_olive_mill_pompeii_no_outliers)"
   ]
  },
  {
   "cell_type": "code",
   "execution_count": 64,
   "metadata": {},
   "outputs": [
    {
     "data": {
      "text/plain": [
       "0.13812154696132597"
      ]
     },
     "execution_count": 64,
     "metadata": {},
     "output_type": "execute_result"
    }
   ],
   "source": [
    "statistics.median(rs_olive_mill_pompeii_no_outliers)"
   ]
  },
  {
   "cell_type": "code",
   "execution_count": 65,
   "metadata": {},
   "outputs": [],
   "source": [
    "# rs_olive_mill_suessa = [0.07631160572337042,\n",
    "#  0.04451510333863275,\n",
    "#  0.04451510333863275,\n",
    "#  0.05087440381558029,\n",
    "#  0.17170111287758347,\n",
    "#  0.1589825119236884,\n",
    "#  0.0794912559618442,\n",
    "#  0.1589825119236884,\n",
    "#  0.1589825119236884,\n",
    "#  0.9443561208267091,\n",
    "#  0.1907790143084261,\n",
    "#  0.9952305246422893,\n",
    "#  0.1907790143084261,\n",
    "#  0.1589825119236884,\n",
    "#  0.1589825119236884,\n",
    "#  0.09538950715421304,\n",
    "#  0.2861685214626391,\n",
    "#  1.9077901430842608]"
   ]
  },
  {
   "cell_type": "code",
   "execution_count": 66,
   "metadata": {},
   "outputs": [],
   "source": [
    "rs_olive_mill_suessa_no_outliers = [0.07631160572337042,\n",
    " 0.04451510333863275,\n",
    " 0.04451510333863275,\n",
    " 0.05087440381558029,\n",
    " 0.17170111287758347,\n",
    " 0.1589825119236884,\n",
    " 0.0794912559618442,\n",
    " 0.1589825119236884,\n",
    " 0.1589825119236884,\n",
    " 0.1907790143084261,\n",
    " 0.1907790143084261,\n",
    " 0.1589825119236884,\n",
    " 0.1589825119236884,\n",
    " 0.09538950715421304,\n",
    " 0.2861685214626391]"
   ]
  },
  {
   "cell_type": "code",
   "execution_count": 67,
   "metadata": {},
   "outputs": [
    {
     "data": {
      "text/plain": [
       "0.13502914679385267"
      ]
     },
     "execution_count": 67,
     "metadata": {},
     "output_type": "execute_result"
    }
   ],
   "source": [
    "statistics.mean(rs_olive_mill_suessa_no_outliers)"
   ]
  },
  {
   "cell_type": "code",
   "execution_count": 68,
   "metadata": {},
   "outputs": [
    {
     "data": {
      "text/plain": [
       "0.1589825119236884"
      ]
     },
     "execution_count": 68,
     "metadata": {},
     "output_type": "execute_result"
    }
   ],
   "source": [
    "statistics.median(rs_olive_mill_suessa_no_outliers)"
   ]
  },
  {
   "cell_type": "code",
   "execution_count": 69,
   "metadata": {},
   "outputs": [],
   "source": [
    "# c_olive_mill = [0.13259668508287292,\n",
    "#  0.07734806629834254,\n",
    "#  0.07734806629834254,\n",
    "#  0.08839779005524862,\n",
    "#  0.2983425414364641,\n",
    "#  0.27624309392265195,\n",
    "#  0.13812154696132597,\n",
    "#  0.27624309392265195,\n",
    "#  0.27624309392265195,\n",
    "#  1.6408839779005524,\n",
    "#  0.3314917127071823,\n",
    "#  1.729281767955801,\n",
    "#  0.3314917127071823,\n",
    "#  0.27624309392265195,\n",
    "#  0.27624309392265195,\n",
    "#  0.16574585635359115,\n",
    "#  0.4972375690607735,\n",
    "#  2.2099447513812156]"
   ]
  },
  {
   "cell_type": "code",
   "execution_count": 70,
   "metadata": {},
   "outputs": [],
   "source": [
    "c_olive_mill_pompeii_no_outliers = [0.13259668508287292,\n",
    " 0.07734806629834254,\n",
    " 0.07734806629834254,\n",
    " 0.08839779005524862,\n",
    " 0.2983425414364641,\n",
    " 0.27624309392265195,\n",
    " 0.13812154696132597,\n",
    " 0.27624309392265195,\n",
    " 0.27624309392265195,\n",
    " 0.3314917127071823,\n",
    " 0.3314917127071823,\n",
    " 0.27624309392265195,\n",
    " 0.27624309392265195,\n",
    " 0.16574585635359115,\n",
    " 0.4972375690607735]"
   ]
  },
  {
   "cell_type": "code",
   "execution_count": 71,
   "metadata": {},
   "outputs": [
    {
     "data": {
      "text/plain": [
       "0.6362799263351749"
      ]
     },
     "execution_count": 71,
     "metadata": {},
     "output_type": "execute_result"
    }
   ],
   "source": [
    "statistics.mean(c_olive_mill_pompeii)"
   ]
  },
  {
   "cell_type": "code",
   "execution_count": 72,
   "metadata": {},
   "outputs": [
    {
     "data": {
      "text/plain": [
       "0.27624309392265195"
      ]
     },
     "execution_count": 72,
     "metadata": {},
     "output_type": "execute_result"
    }
   ],
   "source": [
    "statistics.median(c_olive_mill_pompeii)"
   ]
  },
  {
   "cell_type": "code",
   "execution_count": 73,
   "metadata": {},
   "outputs": [],
   "source": [
    "# c_olive_mill_suessa = [0.15262321144674085,\n",
    "#  0.0890302066772655,\n",
    "#  0.0890302066772655,\n",
    "#  0.10174880763116058,\n",
    "#  0.34340222575516693,\n",
    "#  0.3179650238473768,\n",
    "#  0.1589825119236884,\n",
    "#  0.3179650238473768,\n",
    "#  0.3179650238473768,\n",
    "#  1.8887122416534181,\n",
    "#  0.3815580286168522,\n",
    "#  1.9904610492845787,\n",
    "#  0.3815580286168522,\n",
    "#  0.3179650238473768,\n",
    "#  0.3179650238473768,\n",
    "#  0.1907790143084261,\n",
    "#  0.5723370429252782,\n",
    "#  2.5437201907790143]"
   ]
  },
  {
   "cell_type": "code",
   "execution_count": 74,
   "metadata": {},
   "outputs": [],
   "source": [
    "c_olive_mill_suessa_no_outliers = [0.15262321144674085,\n",
    " 0.0890302066772655,\n",
    " 0.0890302066772655,\n",
    " 0.10174880763116058,\n",
    " 0.34340222575516693,\n",
    " 0.3179650238473768,\n",
    " 0.1589825119236884,\n",
    " 0.3179650238473768,\n",
    " 0.3179650238473768,\n",
    " 0.3815580286168522,\n",
    " 0.3815580286168522,\n",
    " 0.3179650238473768,\n",
    " 0.3179650238473768,\n",
    " 0.1907790143084261,\n",
    " 0.5723370429252782]"
   ]
  },
  {
   "cell_type": "code",
   "execution_count": 75,
   "metadata": {},
   "outputs": [
    {
     "data": {
      "text/plain": [
       "0.6362799263351749"
      ]
     },
     "execution_count": 75,
     "metadata": {},
     "output_type": "execute_result"
    }
   ],
   "source": [
    "statistics.mean(c_olive_mill_pompeii)"
   ]
  },
  {
   "cell_type": "code",
   "execution_count": 76,
   "metadata": {},
   "outputs": [
    {
     "data": {
      "text/plain": [
       "0.27624309392265195"
      ]
     },
     "execution_count": 76,
     "metadata": {},
     "output_type": "execute_result"
    }
   ],
   "source": [
    "statistics.median(c_olive_mill_pompeii)"
   ]
  },
  {
   "cell_type": "code",
   "execution_count": 77,
   "metadata": {},
   "outputs": [
    {
     "data": {
      "text/plain": [
       "0.7323794382617912"
      ]
     },
     "execution_count": 77,
     "metadata": {},
     "output_type": "execute_result"
    }
   ],
   "source": [
    "statistics.mean(c_olive_mill_suessa)"
   ]
  },
  {
   "cell_type": "code",
   "execution_count": 78,
   "metadata": {},
   "outputs": [
    {
     "data": {
      "text/plain": [
       "0.3179650238473768"
      ]
     },
     "execution_count": 78,
     "metadata": {},
     "output_type": "execute_result"
    }
   ],
   "source": [
    "statistics.median(c_olive_mill_suessa)"
   ]
  },
  {
   "cell_type": "code",
   "execution_count": 79,
   "metadata": {},
   "outputs": [
    {
     "data": {
      "text/plain": [
       "0.23462246777163906"
      ]
     },
     "execution_count": 79,
     "metadata": {},
     "output_type": "execute_result"
    }
   ],
   "source": [
    "statistics.mean(c_olive_mill_pompeii_no_outliers)"
   ]
  },
  {
   "cell_type": "code",
   "execution_count": 80,
   "metadata": {},
   "outputs": [
    {
     "data": {
      "text/plain": [
       "0.27624309392265195"
      ]
     },
     "execution_count": 80,
     "metadata": {},
     "output_type": "execute_result"
    }
   ],
   "source": [
    "statistics.median(c_olive_mill_pompeii_no_outliers)"
   ]
  },
  {
   "cell_type": "code",
   "execution_count": 81,
   "metadata": {},
   "outputs": [
    {
     "data": {
      "text/plain": [
       "0.27005829358770533"
      ]
     },
     "execution_count": 81,
     "metadata": {},
     "output_type": "execute_result"
    }
   ],
   "source": [
    "statistics.mean(c_olive_mill_suessa_no_outliers)"
   ]
  },
  {
   "cell_type": "code",
   "execution_count": 82,
   "metadata": {},
   "outputs": [
    {
     "data": {
      "text/plain": [
       "0.3179650238473768"
      ]
     },
     "execution_count": 82,
     "metadata": {},
     "output_type": "execute_result"
    }
   ],
   "source": [
    "statistics.median(c_olive_mill_suessa_no_outliers)"
   ]
  },
  {
   "cell_type": "code",
   "execution_count": 83,
   "metadata": {},
   "outputs": [],
   "source": [
    "# e_olive_mill_pompeii = [0.19889502762430938,\n",
    "#  0.11602209944751381,\n",
    "#  0.11602209944751381,\n",
    "#  0.13259668508287292,\n",
    "#  0.44751381215469616,\n",
    "#  0.4143646408839779,\n",
    "#  0.20718232044198895,\n",
    "#  0.4143646408839779,\n",
    "#  0.4143646408839779,\n",
    "#  2.4613259668508287,\n",
    "#  0.4972375690607735,\n",
    "#  2.5939226519337018,\n",
    "#  0.4972375690607735,\n",
    "#  0.4143646408839779,\n",
    "#  0.4143646408839779,\n",
    "#  0.24861878453038674,\n",
    "#  0.7458563535911602,\n",
    "#  3.867403314917127]"
   ]
  },
  {
   "cell_type": "code",
   "execution_count": 84,
   "metadata": {},
   "outputs": [],
   "source": [
    "e_olive_mill_pompeii_no_outliers = [0.19889502762430938,\n",
    " 0.11602209944751381,\n",
    " 0.11602209944751381,\n",
    " 0.13259668508287292,\n",
    " 0.44751381215469616,\n",
    " 0.4143646408839779,\n",
    " 0.20718232044198895,\n",
    " 0.4143646408839779,\n",
    " 0.4143646408839779,\n",
    " 0.4972375690607735,\n",
    " 0.4972375690607735,\n",
    " 0.4143646408839779,\n",
    " 0.4143646408839779,\n",
    " 0.24861878453038674,\n",
    " 0.7458563535911602]"
   ]
  },
  {
   "cell_type": "code",
   "execution_count": 85,
   "metadata": {},
   "outputs": [
    {
     "data": {
      "text/plain": [
       "1.0887047268262737"
      ]
     },
     "execution_count": 85,
     "metadata": {},
     "output_type": "execute_result"
    }
   ],
   "source": [
    "statistics.mean(e_olive_mill_pompeii)"
   ]
  },
  {
   "cell_type": "code",
   "execution_count": 86,
   "metadata": {},
   "outputs": [
    {
     "data": {
      "text/plain": [
       "0.4143646408839779"
      ]
     },
     "execution_count": 86,
     "metadata": {},
     "output_type": "execute_result"
    }
   ],
   "source": [
    "statistics.median(e_olive_mill_pompeii)"
   ]
  },
  {
   "cell_type": "code",
   "execution_count": 87,
   "metadata": {},
   "outputs": [
    {
     "data": {
      "text/plain": [
       "0.3519337016574586"
      ]
     },
     "execution_count": 87,
     "metadata": {},
     "output_type": "execute_result"
    }
   ],
   "source": [
    "statistics.mean(e_olive_mill_pompeii_no_outliers)"
   ]
  },
  {
   "cell_type": "code",
   "execution_count": 88,
   "metadata": {},
   "outputs": [
    {
     "data": {
      "text/plain": [
       "0.4143646408839779"
      ]
     },
     "execution_count": 88,
     "metadata": {},
     "output_type": "execute_result"
    }
   ],
   "source": [
    "statistics.median(e_olive_mill_pompeii_no_outliers)"
   ]
  },
  {
   "cell_type": "code",
   "execution_count": 89,
   "metadata": {},
   "outputs": [],
   "source": [
    "# e_olive_mill_suessa = [0.2289348171701113,\n",
    "#  0.13354531001589826,\n",
    "#  0.13354531001589826,\n",
    "#  0.15262321144674085,\n",
    "#  0.5151033386327504,\n",
    "#  0.4769475357710652,\n",
    "#  0.2384737678855326,\n",
    "#  0.4769475357710652,\n",
    "#  0.4769475357710652,\n",
    "#  2.833068362480127,\n",
    "#  0.5723370429252782,\n",
    "#  2.985691573926868,\n",
    "#  0.5723370429252782,\n",
    "#  0.4769475357710652,\n",
    "#  0.4769475357710652,\n",
    "#  0.2861685214626391,\n",
    "#  0.8585055643879174,\n",
    "#  4.451510333863275]"
   ]
  },
  {
   "cell_type": "code",
   "execution_count": 90,
   "metadata": {},
   "outputs": [],
   "source": [
    "e_olive_mill_suessa_no_outliers = [0.2289348171701113,\n",
    " 0.13354531001589826,\n",
    " 0.13354531001589826,\n",
    " 0.15262321144674085,\n",
    " 0.5151033386327504,\n",
    " 0.4769475357710652,\n",
    " 0.2384737678855326,\n",
    " 0.4769475357710652,\n",
    " 0.4769475357710652,\n",
    " 0.5723370429252782,\n",
    " 0.5723370429252782,\n",
    " 0.4769475357710652,\n",
    " 0.4769475357710652,\n",
    " 0.2861685214626391,\n",
    " 0.8585055643879174,]"
   ]
  },
  {
   "cell_type": "code",
   "execution_count": 91,
   "metadata": {},
   "outputs": [
    {
     "data": {
      "text/plain": [
       "0.40508744038155803"
      ]
     },
     "execution_count": 91,
     "metadata": {},
     "output_type": "execute_result"
    }
   ],
   "source": [
    "statistics.mean(e_olive_mill_suessa_no_outliers)"
   ]
  },
  {
   "cell_type": "code",
   "execution_count": 92,
   "metadata": {},
   "outputs": [
    {
     "data": {
      "text/plain": [
       "0.4769475357710652"
      ]
     },
     "execution_count": 92,
     "metadata": {},
     "output_type": "execute_result"
    }
   ],
   "source": [
    "statistics.median(e_olive_mill_suessa_no_outliers)"
   ]
  },
  {
   "cell_type": "code",
   "execution_count": 93,
   "metadata": {},
   "outputs": [],
   "source": [
    "GDP = 2427500000"
   ]
  },
  {
   "cell_type": "code",
   "execution_count": 94,
   "metadata": {},
   "outputs": [],
   "source": [
    "all_bonuses = [636000,\n",
    "                834400,\n",
    "                834400,\n",
    "                963200,\n",
    "                3184400,\n",
    "                2980000,\n",
    "                1490000,\n",
    "                28369600,\n",
    "                2980000,\n",
    "                19726200,\n",
    "                3336000,\n",
    "                18654800,\n",
    "                3560000,\n",
    "                2980000,\n",
    "                2980000,\n",
    "                1788000,\n",
    "                5364000,\n",
    "                40680000]"
   ]
  },
  {
   "cell_type": "code",
   "execution_count": 95,
   "metadata": {},
   "outputs": [],
   "source": [
    "bonuses_b_180 = [636000,\n",
    "                834400,\n",
    "                834400,\n",
    "                963200,\n",
    "                3184400,\n",
    "                2980000,\n",
    "                1490000,\n",
    "                28369600,\n",
    "                2980000,\n",
    "                19726200,\n",
    "                3336000\n",
    "]"
   ]
  },
  {
   "cell_type": "code",
   "execution_count": 96,
   "metadata": {},
   "outputs": [],
   "source": [
    "bonuses_a_180 = [18654800,\n",
    "                3560000,\n",
    "                2980000,\n",
    "                2980000,\n",
    "                1788000,\n",
    "                5364000,\n",
    "                40680000\n",
    "]"
   ]
  },
  {
   "cell_type": "code",
   "execution_count": 97,
   "metadata": {},
   "outputs": [],
   "source": [
    "gdp_bonus_comp = [bonus/GDP*100 for bonus in all_bonuses]"
   ]
  },
  {
   "cell_type": "code",
   "execution_count": 98,
   "metadata": {},
   "outputs": [
    {
     "data": {
      "text/plain": [
       "[0.02619979402677652,\n",
       " 0.034372811534500516,\n",
       " 0.034372811534500516,\n",
       " 0.03967868177136972,\n",
       " 0.13118022657054582,\n",
       " 0.12276004119464469,\n",
       " 0.061380020597322345,\n",
       " 1.1686755921730174,\n",
       " 0.12276004119464469,\n",
       " 0.8126138002059733,\n",
       " 0.13742533470648816,\n",
       " 0.7684778578784758,\n",
       " 0.1466529351184346,\n",
       " 0.12276004119464469,\n",
       " 0.12276004119464469,\n",
       " 0.07365602471678681,\n",
       " 0.22096807415036046,\n",
       " 1.6757981462409886]"
      ]
     },
     "execution_count": 98,
     "metadata": {},
     "output_type": "execute_result"
    }
   ],
   "source": [
    "gdp_bonus_comp"
   ]
  },
  {
   "cell_type": "code",
   "execution_count": 99,
   "metadata": {},
   "outputs": [
    {
     "data": {
      "text/plain": [
       "0.32347179311133994"
      ]
     },
     "execution_count": 99,
     "metadata": {},
     "output_type": "execute_result"
    }
   ],
   "source": [
    "statistics.mean(gdp_bonus_comp)"
   ]
  },
  {
   "cell_type": "code",
   "execution_count": 100,
   "metadata": {},
   "outputs": [],
   "source": [
    "gdp_bonus_comp_no_outliers = [0.016374871266735324,\n",
    " 0.02148300720906282,\n",
    " 0.02148300720906282,\n",
    " 0.024799176107106077,\n",
    " 0.08198764160659114,\n",
    " 0.07672502574665294,\n",
    " 0.03836251287332647,\n",
    " 0.07672502574665294,\n",
    " 0.07672502574665294,\n",
    " 0.08187435633367662,\n",
    " 0.09165808444902163,\n",
    " 0.07672502574665294,\n",
    " 0.07672502574665294,\n",
    " 0.04603501544799176,\n",
    " 0.1381050463439753,]"
   ]
  },
  {
   "cell_type": "code",
   "execution_count": 101,
   "metadata": {},
   "outputs": [
    {
     "data": {
      "text/plain": [
       "0.06305252317198765"
      ]
     },
     "execution_count": 101,
     "metadata": {},
     "output_type": "execute_result"
    }
   ],
   "source": [
    "statistics.mean(gdp_bonus_comp_no_outliers)"
   ]
  },
  {
   "cell_type": "code",
   "execution_count": 102,
   "metadata": {},
   "outputs": [
    {
     "data": {
      "text/plain": [
       "0.12276004119464469"
      ]
     },
     "execution_count": 102,
     "metadata": {},
     "output_type": "execute_result"
    }
   ],
   "source": [
    "statistics.median(gdp_bonus_comp)"
   ]
  },
  {
   "cell_type": "code",
   "execution_count": 103,
   "metadata": {},
   "outputs": [
    {
     "data": {
      "text/plain": [
       "35760000"
      ]
     },
     "execution_count": 103,
     "metadata": {},
     "output_type": "execute_result"
    }
   ],
   "source": [
    "((3000*4940)+(6000*60)+(9000*300)) *2"
   ]
  },
  {
   "cell_type": "code",
   "execution_count": 104,
   "metadata": {},
   "outputs": [],
   "source": [
    "# calculate bonuses for allies + citiens before (but not including) 180BCE\n",
    "allies_add_1 = [bonus*2.5 for bonus in bonuses_b_180]"
   ]
  },
  {
   "cell_type": "code",
   "execution_count": 105,
   "metadata": {},
   "outputs": [
    {
     "data": {
      "text/plain": [
       "[1590000.0,\n",
       " 2086000.0,\n",
       " 2086000.0,\n",
       " 2408000.0,\n",
       " 7961000.0,\n",
       " 7450000.0,\n",
       " 3725000.0,\n",
       " 70924000.0,\n",
       " 7450000.0,\n",
       " 49315500.0,\n",
       " 8340000.0]"
      ]
     },
     "execution_count": 105,
     "metadata": {},
     "output_type": "execute_result"
    }
   ],
   "source": [
    "allies_add_1"
   ]
  },
  {
   "cell_type": "code",
   "execution_count": 106,
   "metadata": {},
   "outputs": [],
   "source": [
    "# calculate the bonuses for allies + citizens after (and including) 180 BCE\n",
    "allies_add_2 = [bonus*2 for bonus in bonuses_a_180]"
   ]
  },
  {
   "cell_type": "code",
   "execution_count": 107,
   "metadata": {},
   "outputs": [
    {
     "data": {
      "text/plain": [
       "[37309600, 7120000, 5960000, 5960000, 3576000, 10728000, 81360000]"
      ]
     },
     "execution_count": 107,
     "metadata": {},
     "output_type": "execute_result"
    }
   ],
   "source": [
    "allies_add_2"
   ]
  },
  {
   "cell_type": "code",
   "execution_count": 108,
   "metadata": {},
   "outputs": [],
   "source": [
    "#manually adjust list so that the 177 triumph accounts for half bonus for allies\n",
    "allies_add_2 = [37309600, 7120000, 5960000, 5960000, 2682000, 10728000, 81360000]"
   ]
  },
  {
   "cell_type": "code",
   "execution_count": 109,
   "metadata": {},
   "outputs": [],
   "source": [
    "allies_add_list = allies_add_1 + allies_add_2"
   ]
  },
  {
   "cell_type": "code",
   "execution_count": 110,
   "metadata": {},
   "outputs": [
    {
     "data": {
      "text/plain": [
       "[1590000.0,\n",
       " 2086000.0,\n",
       " 2086000.0,\n",
       " 2408000.0,\n",
       " 7961000.0,\n",
       " 7450000.0,\n",
       " 3725000.0,\n",
       " 70924000.0,\n",
       " 7450000.0,\n",
       " 49315500.0,\n",
       " 8340000.0,\n",
       " 37309600,\n",
       " 7120000,\n",
       " 5960000,\n",
       " 5960000,\n",
       " 2682000,\n",
       " 10728000,\n",
       " 81360000]"
      ]
     },
     "execution_count": 110,
     "metadata": {},
     "output_type": "execute_result"
    }
   ],
   "source": [
    "allies_add_list"
   ]
  },
  {
   "cell_type": "code",
   "execution_count": 111,
   "metadata": {},
   "outputs": [],
   "source": [
    "pay = 1197.5"
   ]
  },
  {
   "cell_type": "code",
   "execution_count": 112,
   "metadata": {},
   "outputs": [],
   "source": [
    "percentage = [bonus/pay*100 for bonus in withDP]"
   ]
  },
  {
   "cell_type": "code",
   "execution_count": 113,
   "metadata": {},
   "outputs": [
    {
     "data": {
      "text/plain": [
       "[10.020876826722338,\n",
       " 5.845511482254697,\n",
       " 5.845511482254697,\n",
       " 6.6805845511482245,\n",
       " 22.546972860125262,\n",
       " 20.876826722338205,\n",
       " 10.438413361169102,\n",
       " 198.7473903966597,\n",
       " 20.876826722338205,\n",
       " 124.00835073068895,\n",
       " 25.052192066805844,\n",
       " 130.68893528183716,\n",
       " 25.052192066805844,\n",
       " 20.876826722338205,\n",
       " 20.876826722338205,\n",
       " 12.526096033402922,\n",
       " 37.578288100208766,\n",
       " 250.52192066805844]"
      ]
     },
     "execution_count": 113,
     "metadata": {},
     "output_type": "execute_result"
    }
   ],
   "source": [
    "percentage"
   ]
  },
  {
   "cell_type": "code",
   "execution_count": 114,
   "metadata": {},
   "outputs": [],
   "source": [
    "c_percentage = [bonus/pay*100 for bonus in CwithDP]"
   ]
  },
  {
   "cell_type": "code",
   "execution_count": 115,
   "metadata": {},
   "outputs": [
    {
     "data": {
      "text/plain": [
       "[20.041753653444676,\n",
       " 11.691022964509393,\n",
       " 11.691022964509393,\n",
       " 13.361169102296449,\n",
       " 45.093945720250524,\n",
       " 41.75365344467641,\n",
       " 20.876826722338205,\n",
       " 397.4947807933194,\n",
       " 41.75365344467641,\n",
       " 248.0167014613779,\n",
       " 50.10438413361169,\n",
       " 261.3778705636743,\n",
       " 50.10438413361169,\n",
       " 41.75365344467641,\n",
       " 41.75365344467641,\n",
       " 25.052192066805844,\n",
       " 75.15657620041753,\n",
       " 334.0292275574113]"
      ]
     },
     "execution_count": 115,
     "metadata": {},
     "output_type": "execute_result"
    }
   ],
   "source": [
    "c_percentage"
   ]
  },
  {
   "cell_type": "code",
   "execution_count": 116,
   "metadata": {},
   "outputs": [],
   "source": [
    "e_percentage = [bonus/pay*100 for bonus in EwithDP]"
   ]
  },
  {
   "cell_type": "code",
   "execution_count": 117,
   "metadata": {},
   "outputs": [
    {
     "data": {
      "text/plain": [
       "[30.062630480167012,\n",
       " 17.536534446764094,\n",
       " 17.536534446764094,\n",
       " 20.041753653444676,\n",
       " 67.64091858037578,\n",
       " 62.63048016701461,\n",
       " 31.315240083507305,\n",
       " 596.2421711899791,\n",
       " 62.63048016701461,\n",
       " 653.8622129436326,\n",
       " 75.15657620041753,\n",
       " 392.0668058455115,\n",
       " 75.15657620041753,\n",
       " 62.63048016701461,\n",
       " 62.63048016701461,\n",
       " 37.578288100208766,\n",
       " 112.73486430062631,\n",
       " 584.5511482254698]"
      ]
     },
     "execution_count": 117,
     "metadata": {},
     "output_type": "execute_result"
    }
   ],
   "source": [
    "e_percentage"
   ]
  },
  {
   "cell_type": "code",
   "execution_count": 118,
   "metadata": {},
   "outputs": [],
   "source": [
    "elite_income = 4367"
   ]
  },
  {
   "cell_type": "code",
   "execution_count": 119,
   "metadata": {},
   "outputs": [],
   "source": [
    "elite_household_income = 7312.5"
   ]
  },
  {
   "cell_type": "code",
   "execution_count": 120,
   "metadata": {},
   "outputs": [
    {
     "data": {
      "text/plain": [
       "25.875887336844517"
      ]
     },
     "execution_count": 120,
     "metadata": {},
     "output_type": "execute_result"
    }
   ],
   "source": [
    "(1130/elite_income)*100"
   ]
  },
  {
   "cell_type": "code",
   "execution_count": 121,
   "metadata": {},
   "outputs": [
    {
     "data": {
      "text/plain": [
       "15.452991452991451"
      ]
     },
     "execution_count": 121,
     "metadata": {},
     "output_type": "execute_result"
    }
   ],
   "source": [
    "(1130/elite_household_income)*100"
   ]
  },
  {
   "cell_type": "code",
   "execution_count": 122,
   "metadata": {},
   "outputs": [
    {
     "data": {
      "text/plain": [
       "108.99931302953973"
      ]
     },
     "execution_count": 122,
     "metadata": {},
     "output_type": "execute_result"
    }
   ],
   "source": [
    "(4760/elite_income)*100"
   ]
  },
  {
   "cell_type": "code",
   "execution_count": 123,
   "metadata": {},
   "outputs": [
    {
     "data": {
      "text/plain": [
       "65.0940170940171"
      ]
     },
     "execution_count": 123,
     "metadata": {},
     "output_type": "execute_result"
    }
   ],
   "source": [
    "(4760/elite_household_income)*100"
   ]
  },
  {
   "cell_type": "code",
   "execution_count": 124,
   "metadata": {},
   "outputs": [
    {
     "data": {
      "text/plain": [
       "17.174261506755208"
      ]
     },
     "execution_count": 124,
     "metadata": {},
     "output_type": "execute_result"
    }
   ],
   "source": [
    "(750/elite_income)*100"
   ]
  },
  {
   "cell_type": "code",
   "execution_count": 125,
   "metadata": {},
   "outputs": [
    {
     "data": {
      "text/plain": [
       "10.256410256410255"
      ]
     },
     "execution_count": 125,
     "metadata": {},
     "output_type": "execute_result"
    }
   ],
   "source": [
    "(750/elite_household_income)*100"
   ]
  },
  {
   "cell_type": "code",
   "execution_count": 126,
   "metadata": {},
   "outputs": [
    {
     "data": {
      "text/plain": [
       "41.75365344467641"
      ]
     },
     "execution_count": 126,
     "metadata": {},
     "output_type": "execute_result"
    }
   ],
   "source": [
    "(500/pay)*100"
   ]
  },
  {
   "cell_type": "code",
   "execution_count": 127,
   "metadata": {},
   "outputs": [],
   "source": [
    "c_elite_percentage = [bonus/elite_income*100 for bonus in CwithDP]"
   ]
  },
  {
   "cell_type": "code",
   "execution_count": 128,
   "metadata": {},
   "outputs": [
    {
     "data": {
      "text/plain": [
       "[5.495763682161667,\n",
       " 3.2058621479276392,\n",
       " 3.2058621479276392,\n",
       " 3.663842454774445,\n",
       " 12.36546828486375,\n",
       " 11.449507671170139,\n",
       " 5.724753835585069,\n",
       " 108.99931302953973,\n",
       " 11.449507671170139,\n",
       " 68.01007556675063,\n",
       " 13.739409205404169,\n",
       " 71.67391802152507,\n",
       " 13.739409205404169,\n",
       " 11.449507671170139,\n",
       " 11.449507671170139,\n",
       " 6.869704602702084,\n",
       " 20.60911380810625,\n",
       " 91.59606136936111]"
      ]
     },
     "execution_count": 128,
     "metadata": {},
     "output_type": "execute_result"
    }
   ],
   "source": [
    "c_elite_percentage"
   ]
  },
  {
   "cell_type": "code",
   "execution_count": 129,
   "metadata": {},
   "outputs": [],
   "source": [
    "e_elite_percentage = [bonus/elite_income*100 for bonus in EwithDP]"
   ]
  },
  {
   "cell_type": "code",
   "execution_count": 130,
   "metadata": {},
   "outputs": [
    {
     "data": {
      "text/plain": [
       "[8.2436455232425,\n",
       " 4.808793221891459,\n",
       " 4.808793221891459,\n",
       " 5.495763682161667,\n",
       " 18.548202427295628,\n",
       " 17.174261506755208,\n",
       " 8.587130753377604,\n",
       " 163.4989695443096,\n",
       " 17.174261506755208,\n",
       " 179.29929013052438,\n",
       " 20.60911380810625,\n",
       " 107.51087703228761,\n",
       " 20.60911380810625,\n",
       " 17.174261506755208,\n",
       " 17.174261506755208,\n",
       " 10.304556904053126,\n",
       " 30.913670712159373,\n",
       " 160.29310739638197]"
      ]
     },
     "execution_count": 130,
     "metadata": {},
     "output_type": "execute_result"
    }
   ],
   "source": [
    "e_elite_percentage"
   ]
  },
  {
   "cell_type": "code",
   "execution_count": 131,
   "metadata": {},
   "outputs": [],
   "source": [
    "e_elite_household_percentage = [bonus/elite_household_income*100 for bonus in EwithDP]"
   ]
  },
  {
   "cell_type": "code",
   "execution_count": 132,
   "metadata": {},
   "outputs": [
    {
     "data": {
      "text/plain": [
       "[4.923076923076923,\n",
       " 2.871794871794872,\n",
       " 2.871794871794872,\n",
       " 3.282051282051282,\n",
       " 11.076923076923077,\n",
       " 10.256410256410255,\n",
       " 5.128205128205128,\n",
       " 97.64102564102564,\n",
       " 10.256410256410255,\n",
       " 107.07692307692307,\n",
       " 12.307692307692308,\n",
       " 64.2051282051282,\n",
       " 12.307692307692308,\n",
       " 10.256410256410255,\n",
       " 10.256410256410255,\n",
       " 6.153846153846154,\n",
       " 18.461538461538463,\n",
       " 95.72649572649573]"
      ]
     },
     "execution_count": 132,
     "metadata": {},
     "output_type": "execute_result"
    }
   ],
   "source": [
    "e_elite_household_percentage"
   ]
  },
  {
   "cell_type": "code",
   "execution_count": 133,
   "metadata": {},
   "outputs": [],
   "source": [
    "s_elite_percentage = [bonus/elite_income*100 for bonus in withDP]"
   ]
  },
  {
   "cell_type": "code",
   "execution_count": 134,
   "metadata": {},
   "outputs": [
    {
     "data": {
      "text/plain": [
       "[2.7478818410808334,\n",
       " 1.6029310739638196,\n",
       " 1.6029310739638196,\n",
       " 1.8319212273872225,\n",
       " 6.182734142431875,\n",
       " 5.724753835585069,\n",
       " 2.8623769177925347,\n",
       " 54.49965651476987,\n",
       " 5.724753835585069,\n",
       " 34.005037783375315,\n",
       " 6.869704602702084,\n",
       " 35.836959010762534,\n",
       " 6.869704602702084,\n",
       " 5.724753835585069,\n",
       " 5.724753835585069,\n",
       " 3.434852301351042,\n",
       " 10.304556904053126,\n",
       " 68.69704602702083]"
      ]
     },
     "execution_count": 134,
     "metadata": {},
     "output_type": "execute_result"
    }
   ],
   "source": [
    "s_elite_percentage"
   ]
  },
  {
   "cell_type": "code",
   "execution_count": 135,
   "metadata": {},
   "outputs": [
    {
     "data": {
      "text/plain": [
       "14.458183853649848"
      ]
     },
     "execution_count": 135,
     "metadata": {},
     "output_type": "execute_result"
    }
   ],
   "source": [
    "statistics.mean(s_elite_percentage)"
   ]
  },
  {
   "cell_type": "code",
   "execution_count": 136,
   "metadata": {},
   "outputs": [
    {
     "data": {
      "text/plain": [
       "5.724753835585069"
      ]
     },
     "execution_count": 136,
     "metadata": {},
     "output_type": "execute_result"
    }
   ],
   "source": [
    "statistics.median(s_elite_percentage)"
   ]
  },
  {
   "cell_type": "code",
   "execution_count": 137,
   "metadata": {},
   "outputs": [
    {
     "data": {
      "text/plain": [
       "26.372032669261888"
      ]
     },
     "execution_count": 137,
     "metadata": {},
     "output_type": "execute_result"
    }
   ],
   "source": [
    "statistics.mean(c_elite_percentage)"
   ]
  },
  {
   "cell_type": "code",
   "execution_count": 138,
   "metadata": {},
   "outputs": [
    {
     "data": {
      "text/plain": [
       "11.449507671170139"
      ]
     },
     "execution_count": 138,
     "metadata": {},
     "output_type": "execute_result"
    }
   ],
   "source": [
    "statistics.median(c_elite_percentage)"
   ]
  },
  {
   "cell_type": "code",
   "execution_count": 139,
   "metadata": {},
   "outputs": [],
   "source": [
    "# calculate the percentage the combined bonus is of GDP in 150 BCE\n",
    "gdp_bonus_comp_plus_allies = [bonus/GDP*100 for bonus in allies_add_list]"
   ]
  },
  {
   "cell_type": "code",
   "execution_count": 140,
   "metadata": {},
   "outputs": [
    {
     "data": {
      "text/plain": [
       "[0.0654994850669413,\n",
       " 0.08593202883625128,\n",
       " 0.08593202883625128,\n",
       " 0.0991967044284243,\n",
       " 0.32795056642636455,\n",
       " 0.30690010298661174,\n",
       " 0.15345005149330587,\n",
       " 2.921688980432544,\n",
       " 0.30690010298661174,\n",
       " 2.0315345005149332,\n",
       " 0.3435633367662204,\n",
       " 1.5369557157569516,\n",
       " 0.2933058702368692,\n",
       " 0.24552008238928938,\n",
       " 0.24552008238928938,\n",
       " 0.11048403707518023,\n",
       " 0.4419361483007209,\n",
       " 3.351596292481977]"
      ]
     },
     "execution_count": 140,
     "metadata": {},
     "output_type": "execute_result"
    }
   ],
   "source": [
    "gdp_bonus_comp_plus_allies"
   ]
  },
  {
   "cell_type": "code",
   "execution_count": 141,
   "metadata": {},
   "outputs": [],
   "source": [
    "gdp_bonus_comp_plus_allies_minus_outliers = [0.04093717816683831,\n",
    " 0.05370751802265706,\n",
    " 0.05370751802265706,\n",
    " 0.061997940267765186,\n",
    " 0.20496910401647783,\n",
    " 0.19181256436663233,\n",
    " 0.09590628218331616,\n",
    " 0.19181256436663233,\n",
    " 0.19181256436663233,\n",
    " 0.20468589083419156,\n",
    " 0.18331616889804325,\n",
    " 0.15345005149330587,\n",
    " 0.15345005149330587,\n",
    " 0.09207003089598352,\n",
    " 0.2762100926879506]"
   ]
  },
  {
   "cell_type": "code",
   "execution_count": 302,
   "metadata": {},
   "outputs": [
    {
     "data": {
      "text/plain": [
       "0.7196592287447077"
      ]
     },
     "execution_count": 302,
     "metadata": {},
     "output_type": "execute_result"
    }
   ],
   "source": [
    "statistics.mean(gdp_bonus_comp_plus_allies)"
   ]
  },
  {
   "cell_type": "code",
   "execution_count": 143,
   "metadata": {},
   "outputs": [
    {
     "data": {
      "text/plain": [
       "0.1433230346721593"
      ]
     },
     "execution_count": 143,
     "metadata": {},
     "output_type": "execute_result"
    }
   ],
   "source": [
    "statistics.mean(gdp_bonus_comp_plus_allies_minus_outliers)"
   ]
  },
  {
   "cell_type": "code",
   "execution_count": 303,
   "metadata": {},
   "outputs": [
    {
     "data": {
      "text/plain": [
       "0.3001029866117405"
      ]
     },
     "execution_count": 303,
     "metadata": {},
     "output_type": "execute_result"
    }
   ],
   "source": [
    "statistics.median(gdp_bonus_comp_plus_allies)"
   ]
  },
  {
   "cell_type": "code",
   "execution_count": 145,
   "metadata": {},
   "outputs": [
    {
     "name": "stdout",
     "output_type": "stream",
     "text": [
      "1590000.0\n",
      "3676000.0\n",
      "5762000.0\n",
      "8170000.0\n",
      "16131000.0\n",
      "23581000.0\n",
      "27306000.0\n",
      "98230000.0\n",
      "105680000.0\n",
      "154995500.0\n",
      "163335500.0\n",
      "200645100.0\n",
      "207765100.0\n",
      "213725100.0\n",
      "219685100.0\n",
      "222367100.0\n",
      "233095100.0\n",
      "314455100.0\n",
      "total bonus : 314455100.0\n"
     ]
    }
   ],
   "source": [
    "#find total bonus\n",
    "counter = 0\n",
    "for bonus in allies_add_list:\n",
    "    counter += bonus\n",
    "    print(counter)\n",
    "print(\"total bonus : \" + str(counter))\n",
    "    "
   ]
  },
  {
   "cell_type": "code",
   "execution_count": 146,
   "metadata": {},
   "outputs": [
    {
     "data": {
      "text/plain": [
       "9.745936148300721"
      ]
     },
     "execution_count": 146,
     "metadata": {},
     "output_type": "execute_result"
    }
   ],
   "source": [
    "236582600/GDP*100"
   ]
  },
  {
   "cell_type": "code",
   "execution_count": 147,
   "metadata": {},
   "outputs": [
    {
     "data": {
      "text/plain": [
       "80323680"
      ]
     },
     "execution_count": 147,
     "metadata": {},
     "output_type": "execute_result"
    }
   ],
   "source": [
    "(((83000 + 2340 + 1120) * 84) + 472000 + 297728) * 10"
   ]
  },
  {
   "cell_type": "code",
   "execution_count": 148,
   "metadata": {},
   "outputs": [],
   "source": [
    "#Circulating Money Supply\n",
    "CMS = 700000000"
   ]
  },
  {
   "cell_type": "code",
   "execution_count": 149,
   "metadata": {},
   "outputs": [],
   "source": [
    "cms_comp = [bonus/CMS*100 for bonus in allies_add_list]"
   ]
  },
  {
   "cell_type": "code",
   "execution_count": 150,
   "metadata": {},
   "outputs": [
    {
     "data": {
      "text/plain": [
       "[0.22714285714285715,\n",
       " 0.298,\n",
       " 0.298,\n",
       " 0.344,\n",
       " 1.1372857142857142,\n",
       " 1.0642857142857143,\n",
       " 0.5321428571428571,\n",
       " 10.132,\n",
       " 1.0642857142857143,\n",
       " 7.045071428571428,\n",
       " 1.1914285714285715,\n",
       " 5.329942857142857,\n",
       " 1.0171428571428571,\n",
       " 0.8514285714285714,\n",
       " 0.8514285714285714,\n",
       " 0.3831428571428572,\n",
       " 1.5325714285714287,\n",
       " 11.622857142857143]"
      ]
     },
     "execution_count": 150,
     "metadata": {},
     "output_type": "execute_result"
    }
   ],
   "source": [
    "cms_comp"
   ]
  },
  {
   "cell_type": "code",
   "execution_count": 151,
   "metadata": {},
   "outputs": [
    {
     "data": {
      "text/plain": [
       "2.495675396825397"
      ]
     },
     "execution_count": 151,
     "metadata": {},
     "output_type": "execute_result"
    }
   ],
   "source": [
    "statistics.mean(cms_comp)"
   ]
  },
  {
   "cell_type": "code",
   "execution_count": 152,
   "metadata": {},
   "outputs": [
    {
     "data": {
      "text/plain": [
       "1.0407142857142857"
      ]
     },
     "execution_count": 152,
     "metadata": {},
     "output_type": "execute_result"
    }
   ],
   "source": [
    "statistics.median(cms_comp)"
   ]
  },
  {
   "cell_type": "code",
   "execution_count": 153,
   "metadata": {},
   "outputs": [
    {
     "data": {
      "text/plain": [
       "33.797514285714286"
      ]
     },
     "execution_count": 153,
     "metadata": {},
     "output_type": "execute_result"
    }
   ],
   "source": [
    "236582600/CMS*100"
   ]
  },
  {
   "cell_type": "code",
   "execution_count": 316,
   "metadata": {},
   "outputs": [],
   "source": [
    "mills_macro_suessa = [x/mill_suessa for x in allies_add_list]"
   ]
  },
  {
   "cell_type": "code",
   "execution_count": 317,
   "metadata": {},
   "outputs": [
    {
     "data": {
      "text/plain": [
       "[1011.1287758346582,\n",
       " 1326.550079491256,\n",
       " 1326.550079491256,\n",
       " 1531.3195548489666,\n",
       " 5062.639109697933,\n",
       " 4737.678855325914,\n",
       " 2368.839427662957,\n",
       " 45102.7027027027,\n",
       " 4737.678855325914,\n",
       " 31361.20826709062,\n",
       " 5303.656597774245,\n",
       " 23726.295707472178,\n",
       " 4527.821939586645,\n",
       " 3790.1430842607315,\n",
       " 3790.1430842607315,\n",
       " 1705.564387917329,\n",
       " 6822.257551669316,\n",
       " 51739.26868044515]"
      ]
     },
     "execution_count": 317,
     "metadata": {},
     "output_type": "execute_result"
    }
   ],
   "source": [
    "mills_macro_suessa"
   ]
  },
  {
   "cell_type": "code",
   "execution_count": 318,
   "metadata": {
    "scrolled": true
   },
   "outputs": [
    {
     "name": "stdout",
     "output_type": "stream",
     "text": [
      "1011.1287758346582\n",
      "2337.678855325914\n",
      "3664.22893481717\n",
      "5195.548489666136\n",
      "10258.18759936407\n",
      "14995.866454689984\n",
      "17364.70588235294\n",
      "62467.408585055644\n",
      "67205.08744038155\n",
      "98566.29570747218\n",
      "103869.95230524642\n",
      "127596.2480127186\n",
      "132124.06995230523\n",
      "135914.21303656595\n",
      "139704.35612082668\n",
      "141409.920508744\n",
      "148232.1780604133\n",
      "199971.44674085846\n",
      "total mills : 199971.44674085846\n"
     ]
    }
   ],
   "source": [
    "counter = 0\n",
    "for x in mills_macro_suessa:\n",
    "    counter += x\n",
    "    print(counter)\n",
    "print(\"total mills : \" + str(counter))"
   ]
  },
  {
   "cell_type": "code",
   "execution_count": 319,
   "metadata": {},
   "outputs": [
    {
     "data": {
      "text/plain": [
       "4632.75039745628"
      ]
     },
     "execution_count": 319,
     "metadata": {},
     "output_type": "execute_result"
    }
   ],
   "source": [
    "statistics.median(mills_macro_suessa)"
   ]
  },
  {
   "cell_type": "code",
   "execution_count": 320,
   "metadata": {},
   "outputs": [],
   "source": [
    "mills_macro_pompeii = [x/mill_pompeii for x in allies_add_list]"
   ]
  },
  {
   "cell_type": "code",
   "execution_count": 321,
   "metadata": {},
   "outputs": [
    {
     "data": {
      "text/plain": [
       "[878.4530386740331,\n",
       " 1152.486187845304,\n",
       " 1152.486187845304,\n",
       " 1330.3867403314916,\n",
       " 4398.342541436464,\n",
       " 4116.022099447514,\n",
       " 2058.011049723757,\n",
       " 39184.530386740335,\n",
       " 4116.022099447514,\n",
       " 27246.13259668508,\n",
       " 4607.734806629835,\n",
       " 20613.03867403315,\n",
       " 3933.7016574585637,\n",
       " 3292.817679558011,\n",
       " 3292.817679558011,\n",
       " 1481.767955801105,\n",
       " 5927.07182320442,\n",
       " 44950.276243093926]"
      ]
     },
     "execution_count": 321,
     "metadata": {},
     "output_type": "execute_result"
    }
   ],
   "source": [
    "mills_macro_pompeii"
   ]
  },
  {
   "cell_type": "code",
   "execution_count": 160,
   "metadata": {},
   "outputs": [
    {
     "data": {
      "text/plain": [
       "4024.861878453039"
      ]
     },
     "execution_count": 160,
     "metadata": {},
     "output_type": "execute_result"
    }
   ],
   "source": [
    "statistics.median(mills_macro_pompeii)"
   ]
  },
  {
   "cell_type": "code",
   "execution_count": null,
   "metadata": {},
   "outputs": [],
   "source": []
  },
  {
   "cell_type": "code",
   "execution_count": 161,
   "metadata": {},
   "outputs": [
    {
     "name": "stdout",
     "output_type": "stream",
     "text": [
      "878.4530386740331\n",
      "2030.939226519337\n",
      "3183.425414364641\n",
      "4513.812154696132\n",
      "8912.154696132595\n",
      "13028.176795580108\n",
      "15086.187845303864\n",
      "54270.7182320442\n",
      "58386.74033149172\n",
      "85632.8729281768\n",
      "90240.60773480663\n",
      "110853.64640883978\n",
      "114787.34806629833\n",
      "118080.16574585634\n",
      "121372.98342541435\n",
      "122854.75138121545\n",
      "128781.82320441987\n",
      "173732.09944751378\n",
      "total mills : 173732.09944751378\n"
     ]
    }
   ],
   "source": [
    "counter = 0\n",
    "for x in mills_macro_pompeii:\n",
    "    counter += x\n",
    "    print(counter)\n",
    "print(\"total mills : \" + str(counter))"
   ]
  },
  {
   "cell_type": "code",
   "execution_count": null,
   "metadata": {},
   "outputs": [],
   "source": []
  },
  {
   "cell_type": "code",
   "execution_count": 162,
   "metadata": {},
   "outputs": [],
   "source": [
    "bar_macro = [x/bar for x in allies_add_list]"
   ]
  },
  {
   "cell_type": "code",
   "execution_count": 163,
   "metadata": {},
   "outputs": [
    {
     "data": {
      "text/plain": [
       "[8833.333333333334,\n",
       " 11588.888888888889,\n",
       " 11588.888888888889,\n",
       " 13377.777777777777,\n",
       " 44227.77777777778,\n",
       " 41388.88888888889,\n",
       " 20694.444444444445,\n",
       " 394022.22222222225,\n",
       " 41388.88888888889,\n",
       " 273975.0,\n",
       " 46333.333333333336,\n",
       " 207275.55555555556,\n",
       " 39555.555555555555,\n",
       " 33111.11111111111,\n",
       " 33111.11111111111,\n",
       " 14900.0,\n",
       " 59600.0,\n",
       " 452000.0]"
      ]
     },
     "execution_count": 163,
     "metadata": {},
     "output_type": "execute_result"
    }
   ],
   "source": [
    "bar_macro"
   ]
  },
  {
   "cell_type": "code",
   "execution_count": 164,
   "metadata": {},
   "outputs": [
    {
     "name": "stdout",
     "output_type": "stream",
     "text": [
      "8833.333333333334\n",
      "20422.222222222223\n",
      "32011.11111111111\n",
      "45388.88888888889\n",
      "89616.66666666667\n",
      "131005.55555555556\n",
      "151700.0\n",
      "545722.2222222222\n",
      "587111.1111111111\n",
      "861086.1111111111\n",
      "907419.4444444445\n",
      "1114695.0\n",
      "1154250.5555555555\n",
      "1187361.6666666665\n",
      "1220472.7777777775\n",
      "1235372.7777777775\n",
      "1294972.7777777775\n",
      "1746972.7777777775\n",
      "total bars : 1746972.7777777775\n"
     ]
    }
   ],
   "source": [
    "counter = 0\n",
    "for x in bar_macro:\n",
    "    counter += x\n",
    "    print(counter)\n",
    "print(\"total bars : \" + str(counter))"
   ]
  },
  {
   "cell_type": "code",
   "execution_count": 322,
   "metadata": {},
   "outputs": [
    {
     "data": {
      "text/plain": [
       "40472.22222222222"
      ]
     },
     "execution_count": 322,
     "metadata": {},
     "output_type": "execute_result"
    }
   ],
   "source": [
    "statistics.median(bar_macro)"
   ]
  },
  {
   "cell_type": "code",
   "execution_count": 166,
   "metadata": {},
   "outputs": [],
   "source": [
    "# the number of asses per family\n",
    "home = 9.375"
   ]
  },
  {
   "cell_type": "code",
   "execution_count": 167,
   "metadata": {},
   "outputs": [],
   "source": [
    "village = 375000"
   ]
  },
  {
   "cell_type": "code",
   "execution_count": 168,
   "metadata": {},
   "outputs": [],
   "source": [
    "rs_home = [x/home for x in withDP]"
   ]
  },
  {
   "cell_type": "code",
   "execution_count": 169,
   "metadata": {},
   "outputs": [],
   "source": [
    "c_home = [x/home for x in CwithDP]"
   ]
  },
  {
   "cell_type": "code",
   "execution_count": 170,
   "metadata": {},
   "outputs": [],
   "source": [
    "e_home = [x/home for x in EwithDP]"
   ]
  },
  {
   "cell_type": "code",
   "execution_count": 171,
   "metadata": {},
   "outputs": [
    {
     "data": {
      "text/plain": [
       "[12.8,\n",
       " 7.466666666666667,\n",
       " 7.466666666666667,\n",
       " 8.533333333333333,\n",
       " 28.8,\n",
       " 26.666666666666668,\n",
       " 13.333333333333334,\n",
       " 253.86666666666667,\n",
       " 26.666666666666668,\n",
       " 158.4,\n",
       " 32.0,\n",
       " 166.93333333333334,\n",
       " 32.0,\n",
       " 26.666666666666668,\n",
       " 26.666666666666668,\n",
       " 16.0,\n",
       " 48.0,\n",
       " 320.0]"
      ]
     },
     "execution_count": 171,
     "metadata": {},
     "output_type": "execute_result"
    }
   ],
   "source": [
    "rs_home"
   ]
  },
  {
   "cell_type": "code",
   "execution_count": 172,
   "metadata": {},
   "outputs": [
    {
     "data": {
      "text/plain": [
       "26.666666666666668"
      ]
     },
     "execution_count": 172,
     "metadata": {},
     "output_type": "execute_result"
    }
   ],
   "source": [
    "statistics.median(rs_home)"
   ]
  },
  {
   "cell_type": "code",
   "execution_count": 173,
   "metadata": {},
   "outputs": [
    {
     "data": {
      "text/plain": [
       "[25.6,\n",
       " 14.933333333333334,\n",
       " 14.933333333333334,\n",
       " 17.066666666666666,\n",
       " 57.6,\n",
       " 53.333333333333336,\n",
       " 26.666666666666668,\n",
       " 507.73333333333335,\n",
       " 53.333333333333336,\n",
       " 316.8,\n",
       " 64.0,\n",
       " 333.8666666666667,\n",
       " 64.0,\n",
       " 53.333333333333336,\n",
       " 53.333333333333336,\n",
       " 32.0,\n",
       " 96.0,\n",
       " 426.6666666666667]"
      ]
     },
     "execution_count": 173,
     "metadata": {},
     "output_type": "execute_result"
    }
   ],
   "source": [
    "c_home"
   ]
  },
  {
   "cell_type": "code",
   "execution_count": 174,
   "metadata": {},
   "outputs": [
    {
     "data": {
      "text/plain": [
       "53.333333333333336"
      ]
     },
     "execution_count": 174,
     "metadata": {},
     "output_type": "execute_result"
    }
   ],
   "source": [
    "statistics.median(c_home)"
   ]
  },
  {
   "cell_type": "code",
   "execution_count": 175,
   "metadata": {},
   "outputs": [
    {
     "data": {
      "text/plain": [
       "[38.4,\n",
       " 22.4,\n",
       " 22.4,\n",
       " 25.6,\n",
       " 86.4,\n",
       " 80.0,\n",
       " 40.0,\n",
       " 761.6,\n",
       " 80.0,\n",
       " 835.2,\n",
       " 96.0,\n",
       " 500.8,\n",
       " 96.0,\n",
       " 80.0,\n",
       " 80.0,\n",
       " 48.0,\n",
       " 144.0,\n",
       " 746.6666666666666]"
      ]
     },
     "execution_count": 175,
     "metadata": {},
     "output_type": "execute_result"
    }
   ],
   "source": [
    "e_home"
   ]
  },
  {
   "cell_type": "code",
   "execution_count": 176,
   "metadata": {},
   "outputs": [
    {
     "data": {
      "text/plain": [
       "80.0"
      ]
     },
     "execution_count": 176,
     "metadata": {},
     "output_type": "execute_result"
    }
   ],
   "source": [
    "statistics.median(e_home)"
   ]
  },
  {
   "cell_type": "code",
   "execution_count": 177,
   "metadata": {},
   "outputs": [],
   "source": [
    "#If the Senate's distribution had been in denarii converted to asses"
   ]
  },
  {
   "cell_type": "code",
   "execution_count": 324,
   "metadata": {},
   "outputs": [],
   "source": [
    "denarii_village = 150000"
   ]
  },
  {
   "cell_type": "code",
   "execution_count": 331,
   "metadata": {},
   "outputs": [],
   "source": [
    "denarii_home = 1500000/40000"
   ]
  },
  {
   "cell_type": "code",
   "execution_count": 332,
   "metadata": {},
   "outputs": [
    {
     "data": {
      "text/plain": [
       "37.5"
      ]
     },
     "execution_count": 332,
     "metadata": {},
     "output_type": "execute_result"
    }
   ],
   "source": [
    "denarii_home"
   ]
  },
  {
   "cell_type": "code",
   "execution_count": 333,
   "metadata": {},
   "outputs": [],
   "source": [
    "rs_home_denarii = [x/denarii_home for x in withDP]"
   ]
  },
  {
   "cell_type": "code",
   "execution_count": 334,
   "metadata": {},
   "outputs": [],
   "source": [
    "c_home_denarii = [x/denarii_home for x in CwithDP]"
   ]
  },
  {
   "cell_type": "code",
   "execution_count": 335,
   "metadata": {},
   "outputs": [],
   "source": [
    "e_home_denarii = [x/denarii_home for x in EwithDP]"
   ]
  },
  {
   "cell_type": "code",
   "execution_count": 351,
   "metadata": {},
   "outputs": [
    {
     "data": {
      "text/plain": [
       "[3.2,\n",
       " 1.8666666666666667,\n",
       " 1.8666666666666667,\n",
       " 2.1333333333333333,\n",
       " 7.2,\n",
       " 6.666666666666667,\n",
       " 3.3333333333333335,\n",
       " 63.46666666666667,\n",
       " 6.666666666666667,\n",
       " 39.6,\n",
       " 8.0,\n",
       " 41.733333333333334,\n",
       " 8.0,\n",
       " 6.666666666666667,\n",
       " 6.666666666666667,\n",
       " 4.0,\n",
       " 12.0,\n",
       " 80.0]"
      ]
     },
     "execution_count": 351,
     "metadata": {},
     "output_type": "execute_result"
    }
   ],
   "source": [
    "rs_home_denarii"
   ]
  },
  {
   "cell_type": "code",
   "execution_count": 352,
   "metadata": {},
   "outputs": [
    {
     "data": {
      "text/plain": [
       "6.666666666666667"
      ]
     },
     "execution_count": 352,
     "metadata": {},
     "output_type": "execute_result"
    }
   ],
   "source": [
    "statistics.median(rs_home_denarii)"
   ]
  },
  {
   "cell_type": "code",
   "execution_count": 353,
   "metadata": {},
   "outputs": [
    {
     "data": {
      "text/plain": [
       "[6.4,\n",
       " 3.7333333333333334,\n",
       " 3.7333333333333334,\n",
       " 4.266666666666667,\n",
       " 14.4,\n",
       " 13.333333333333334,\n",
       " 6.666666666666667,\n",
       " 126.93333333333334,\n",
       " 13.333333333333334,\n",
       " 79.2,\n",
       " 16.0,\n",
       " 83.46666666666667,\n",
       " 16.0,\n",
       " 13.333333333333334,\n",
       " 13.333333333333334,\n",
       " 8.0,\n",
       " 24.0,\n",
       " 106.66666666666667]"
      ]
     },
     "execution_count": 353,
     "metadata": {},
     "output_type": "execute_result"
    }
   ],
   "source": [
    "c_home_denarii"
   ]
  },
  {
   "cell_type": "code",
   "execution_count": 354,
   "metadata": {},
   "outputs": [
    {
     "data": {
      "text/plain": [
       "13.333333333333334"
      ]
     },
     "execution_count": 354,
     "metadata": {},
     "output_type": "execute_result"
    }
   ],
   "source": [
    "statistics.median(c_home_denarii)"
   ]
  },
  {
   "cell_type": "code",
   "execution_count": 355,
   "metadata": {},
   "outputs": [
    {
     "data": {
      "text/plain": [
       "[9.6,\n",
       " 5.6,\n",
       " 5.6,\n",
       " 6.4,\n",
       " 21.6,\n",
       " 20.0,\n",
       " 10.0,\n",
       " 190.4,\n",
       " 20.0,\n",
       " 208.8,\n",
       " 24.0,\n",
       " 125.2,\n",
       " 24.0,\n",
       " 20.0,\n",
       " 20.0,\n",
       " 12.0,\n",
       " 36.0,\n",
       " 186.66666666666666]"
      ]
     },
     "execution_count": 355,
     "metadata": {},
     "output_type": "execute_result"
    }
   ],
   "source": [
    "e_home_denarii"
   ]
  },
  {
   "cell_type": "code",
   "execution_count": 341,
   "metadata": {},
   "outputs": [
    {
     "data": {
      "text/plain": [
       "20.0"
      ]
     },
     "execution_count": 341,
     "metadata": {},
     "output_type": "execute_result"
    }
   ],
   "source": [
    "statistics.median(e_home_denarii)"
   ]
  },
  {
   "cell_type": "code",
   "execution_count": 342,
   "metadata": {},
   "outputs": [],
   "source": [
    "home_macro = [x/home for x in allies_add_list]"
   ]
  },
  {
   "cell_type": "code",
   "execution_count": 343,
   "metadata": {},
   "outputs": [],
   "source": [
    "denarii_home_macro = [x/denarii_home for x in allies_add_list]"
   ]
  },
  {
   "cell_type": "code",
   "execution_count": 344,
   "metadata": {},
   "outputs": [
    {
     "data": {
      "text/plain": [
       "[169600.0,\n",
       " 222506.66666666666,\n",
       " 222506.66666666666,\n",
       " 256853.33333333334,\n",
       " 849173.3333333334,\n",
       " 794666.6666666666,\n",
       " 397333.3333333333,\n",
       " 7565226.666666667,\n",
       " 794666.6666666666,\n",
       " 5260320.0,\n",
       " 889600.0,\n",
       " 3979690.6666666665,\n",
       " 759466.6666666666,\n",
       " 635733.3333333334,\n",
       " 635733.3333333334,\n",
       " 286080.0,\n",
       " 1144320.0,\n",
       " 8678400.0]"
      ]
     },
     "execution_count": 344,
     "metadata": {},
     "output_type": "execute_result"
    }
   ],
   "source": [
    "home_macro"
   ]
  },
  {
   "cell_type": "code",
   "execution_count": 345,
   "metadata": {},
   "outputs": [
    {
     "data": {
      "text/plain": [
       "[42400.0,\n",
       " 55626.666666666664,\n",
       " 55626.666666666664,\n",
       " 64213.333333333336,\n",
       " 212293.33333333334,\n",
       " 198666.66666666666,\n",
       " 99333.33333333333,\n",
       " 1891306.6666666667,\n",
       " 198666.66666666666,\n",
       " 1315080.0,\n",
       " 222400.0,\n",
       " 994922.6666666666,\n",
       " 189866.66666666666,\n",
       " 158933.33333333334,\n",
       " 158933.33333333334,\n",
       " 71520.0,\n",
       " 286080.0,\n",
       " 2169600.0]"
      ]
     },
     "execution_count": 345,
     "metadata": {},
     "output_type": "execute_result"
    }
   ],
   "source": [
    "denarii_home_macro"
   ]
  },
  {
   "cell_type": "code",
   "execution_count": 346,
   "metadata": {},
   "outputs": [
    {
     "data": {
      "text/plain": [
       "777066.6666666666"
      ]
     },
     "execution_count": 346,
     "metadata": {},
     "output_type": "execute_result"
    }
   ],
   "source": [
    "statistics.median(home_macro)"
   ]
  },
  {
   "cell_type": "code",
   "execution_count": 347,
   "metadata": {},
   "outputs": [
    {
     "name": "stdout",
     "output_type": "stream",
     "text": [
      "169600.0\n",
      "392106.6666666666\n",
      "614613.3333333333\n",
      "871466.6666666666\n",
      "1720640.0\n",
      "2515306.6666666665\n",
      "2912640.0\n",
      "10477866.666666668\n",
      "11272533.333333334\n",
      "16532853.333333334\n",
      "17422453.333333336\n",
      "21402144.000000004\n",
      "22161610.66666667\n",
      "22797344.000000004\n",
      "23433077.333333336\n",
      "23719157.333333336\n",
      "24863477.333333336\n",
      "33541877.333333336\n",
      "total homes equipped : 33541877.333333336\n"
     ]
    }
   ],
   "source": [
    "counter = 0\n",
    "for x in home_macro:\n",
    "    counter += x\n",
    "    print(counter)\n",
    "print(\"total homes equipped : \" + str(counter))"
   ]
  },
  {
   "cell_type": "code",
   "execution_count": 348,
   "metadata": {},
   "outputs": [],
   "source": [
    "denarii_home_macro = [x/denarii_home for x in allies_add_list]"
   ]
  },
  {
   "cell_type": "code",
   "execution_count": 349,
   "metadata": {},
   "outputs": [
    {
     "data": {
      "text/plain": [
       "[42400.0,\n",
       " 55626.666666666664,\n",
       " 55626.666666666664,\n",
       " 64213.333333333336,\n",
       " 212293.33333333334,\n",
       " 198666.66666666666,\n",
       " 99333.33333333333,\n",
       " 1891306.6666666667,\n",
       " 198666.66666666666,\n",
       " 1315080.0,\n",
       " 222400.0,\n",
       " 994922.6666666666,\n",
       " 189866.66666666666,\n",
       " 158933.33333333334,\n",
       " 158933.33333333334,\n",
       " 71520.0,\n",
       " 286080.0,\n",
       " 2169600.0]"
      ]
     },
     "execution_count": 349,
     "metadata": {},
     "output_type": "execute_result"
    }
   ],
   "source": [
    "denarii_home_macro"
   ]
  },
  {
   "cell_type": "code",
   "execution_count": 350,
   "metadata": {},
   "outputs": [
    {
     "name": "stdout",
     "output_type": "stream",
     "text": [
      "42400.0\n",
      "98026.66666666666\n",
      "153653.3333333333\n",
      "217866.66666666666\n",
      "430160.0\n",
      "628826.6666666666\n",
      "728160.0\n",
      "2619466.666666667\n",
      "2818133.3333333335\n",
      "4133213.3333333335\n",
      "4355613.333333334\n",
      "5350536.000000001\n",
      "5540402.666666668\n",
      "5699336.000000001\n",
      "5858269.333333334\n",
      "5929789.333333334\n",
      "6215869.333333334\n",
      "8385469.333333334\n",
      "total homes equipped : 8385469.333333334\n"
     ]
    }
   ],
   "source": [
    "counter = 0\n",
    "for x in denarii_home_macro:\n",
    "    counter += x\n",
    "    print(counter)\n",
    "print(\"total homes equipped : \" + str(counter))"
   ]
  },
  {
   "cell_type": "code",
   "execution_count": null,
   "metadata": {},
   "outputs": [],
   "source": []
  },
  {
   "cell_type": "code",
   "execution_count": 196,
   "metadata": {},
   "outputs": [],
   "source": [
    "#Polybius 31.25.5a quotes Cato saying a slave costs \"less than\" this. Original figure in HS therefore times by 2.5\n",
    "\n",
    "slave_1 = 1200*2.5"
   ]
  },
  {
   "cell_type": "code",
   "execution_count": 197,
   "metadata": {},
   "outputs": [
    {
     "data": {
      "text/plain": [
       "3000.0"
      ]
     },
     "execution_count": 197,
     "metadata": {},
     "output_type": "execute_result"
    }
   ],
   "source": [
    "slave_1"
   ]
  },
  {
   "cell_type": "code",
   "execution_count": 198,
   "metadata": {},
   "outputs": [],
   "source": [
    "# Tenny Frank, based on ransom prices of prisoners of war sold into slavery. Original figure in HS therefore times by 2.5\n",
    "\n",
    "slave_2 = 2000*2.5"
   ]
  },
  {
   "cell_type": "code",
   "execution_count": 199,
   "metadata": {},
   "outputs": [
    {
     "data": {
      "text/plain": [
       "5000.0"
      ]
     },
     "execution_count": 199,
     "metadata": {},
     "output_type": "execute_result"
    }
   ],
   "source": [
    "slave_2"
   ]
  },
  {
   "cell_type": "code",
   "execution_count": 200,
   "metadata": {},
   "outputs": [],
   "source": [
    "slave_3 = 1500"
   ]
  },
  {
   "cell_type": "code",
   "execution_count": 201,
   "metadata": {},
   "outputs": [],
   "source": [
    "rs_slave_1 = [x/slave_1 for x in withDP]"
   ]
  },
  {
   "cell_type": "code",
   "execution_count": 202,
   "metadata": {},
   "outputs": [],
   "source": [
    "rs_slave_2 = [x/slave_2 for x in withDP]"
   ]
  },
  {
   "cell_type": "code",
   "execution_count": 203,
   "metadata": {},
   "outputs": [],
   "source": [
    "rs_slave_3 = [x/slave_3 for x in withDP]"
   ]
  },
  {
   "cell_type": "code",
   "execution_count": 204,
   "metadata": {},
   "outputs": [],
   "source": [
    "c_slave_1 = [x/slave_1 for x in CwithDP]"
   ]
  },
  {
   "cell_type": "code",
   "execution_count": 205,
   "metadata": {},
   "outputs": [],
   "source": [
    "c_slave_2 = [x/slave_2 for x in CwithDP]"
   ]
  },
  {
   "cell_type": "code",
   "execution_count": 206,
   "metadata": {},
   "outputs": [],
   "source": [
    "c_slave_3 = [x/slave_3 for x in CwithDP]"
   ]
  },
  {
   "cell_type": "code",
   "execution_count": 207,
   "metadata": {},
   "outputs": [],
   "source": [
    "e_slave_1 = [x/slave_1 for x in EwithDP]"
   ]
  },
  {
   "cell_type": "code",
   "execution_count": 208,
   "metadata": {},
   "outputs": [],
   "source": [
    "e_slave_2 = [x/slave_2 for x in EwithDP]"
   ]
  },
  {
   "cell_type": "code",
   "execution_count": 209,
   "metadata": {},
   "outputs": [],
   "source": [
    "e_slave_3 = [x/slave_3 for x in EwithDP]"
   ]
  },
  {
   "cell_type": "code",
   "execution_count": 210,
   "metadata": {},
   "outputs": [
    {
     "data": {
      "text/plain": [
       "[0.04,\n",
       " 0.023333333333333334,\n",
       " 0.023333333333333334,\n",
       " 0.02666666666666667,\n",
       " 0.09,\n",
       " 0.08333333333333333,\n",
       " 0.041666666666666664,\n",
       " 0.7933333333333333,\n",
       " 0.08333333333333333,\n",
       " 0.495,\n",
       " 0.1,\n",
       " 0.5216666666666666,\n",
       " 0.1,\n",
       " 0.08333333333333333,\n",
       " 0.08333333333333333,\n",
       " 0.05,\n",
       " 0.15,\n",
       " 1.0]"
      ]
     },
     "execution_count": 210,
     "metadata": {},
     "output_type": "execute_result"
    }
   ],
   "source": [
    "rs_slave_1"
   ]
  },
  {
   "cell_type": "code",
   "execution_count": 211,
   "metadata": {},
   "outputs": [
    {
     "data": {
      "text/plain": [
       "[0.024,\n",
       " 0.014,\n",
       " 0.014,\n",
       " 0.016,\n",
       " 0.054,\n",
       " 0.05,\n",
       " 0.025,\n",
       " 0.476,\n",
       " 0.05,\n",
       " 0.297,\n",
       " 0.06,\n",
       " 0.313,\n",
       " 0.06,\n",
       " 0.05,\n",
       " 0.05,\n",
       " 0.03,\n",
       " 0.09,\n",
       " 0.6]"
      ]
     },
     "execution_count": 211,
     "metadata": {},
     "output_type": "execute_result"
    }
   ],
   "source": [
    "rs_slave_2"
   ]
  },
  {
   "cell_type": "code",
   "execution_count": 212,
   "metadata": {},
   "outputs": [
    {
     "data": {
      "text/plain": [
       "[0.08,\n",
       " 0.04666666666666667,\n",
       " 0.04666666666666667,\n",
       " 0.05333333333333334,\n",
       " 0.18,\n",
       " 0.16666666666666666,\n",
       " 0.08333333333333333,\n",
       " 1.5866666666666667,\n",
       " 0.16666666666666666,\n",
       " 0.99,\n",
       " 0.2,\n",
       " 1.0433333333333332,\n",
       " 0.2,\n",
       " 0.16666666666666666,\n",
       " 0.16666666666666666,\n",
       " 0.1,\n",
       " 0.3,\n",
       " 2.0]"
      ]
     },
     "execution_count": 212,
     "metadata": {},
     "output_type": "execute_result"
    }
   ],
   "source": [
    "rs_slave_3"
   ]
  },
  {
   "cell_type": "code",
   "execution_count": 213,
   "metadata": {},
   "outputs": [
    {
     "data": {
      "text/plain": [
       "0.08333333333333333"
      ]
     },
     "execution_count": 213,
     "metadata": {},
     "output_type": "execute_result"
    }
   ],
   "source": [
    "statistics.median(rs_slave_1)"
   ]
  },
  {
   "cell_type": "code",
   "execution_count": 214,
   "metadata": {},
   "outputs": [
    {
     "data": {
      "text/plain": [
       "0.05"
      ]
     },
     "execution_count": 214,
     "metadata": {},
     "output_type": "execute_result"
    }
   ],
   "source": [
    "statistics.median(rs_slave_2)"
   ]
  },
  {
   "cell_type": "code",
   "execution_count": 215,
   "metadata": {},
   "outputs": [
    {
     "data": {
      "text/plain": [
       "0.16666666666666666"
      ]
     },
     "execution_count": 215,
     "metadata": {},
     "output_type": "execute_result"
    }
   ],
   "source": [
    "statistics.median(rs_slave_3)"
   ]
  },
  {
   "cell_type": "code",
   "execution_count": 313,
   "metadata": {},
   "outputs": [
    {
     "data": {
      "text/plain": [
       "[0.08,\n",
       " 0.04666666666666667,\n",
       " 0.04666666666666667,\n",
       " 0.05333333333333334,\n",
       " 0.18,\n",
       " 0.16666666666666666,\n",
       " 0.08333333333333333,\n",
       " 1.5866666666666667,\n",
       " 0.16666666666666666,\n",
       " 0.99,\n",
       " 0.2,\n",
       " 1.0433333333333332,\n",
       " 0.2,\n",
       " 0.16666666666666666,\n",
       " 0.16666666666666666,\n",
       " 0.1,\n",
       " 0.3,\n",
       " 1.3333333333333333]"
      ]
     },
     "execution_count": 313,
     "metadata": {},
     "output_type": "execute_result"
    }
   ],
   "source": [
    "c_slave_1"
   ]
  },
  {
   "cell_type": "code",
   "execution_count": 217,
   "metadata": {},
   "outputs": [
    {
     "data": {
      "text/plain": [
       "[0.048,\n",
       " 0.028,\n",
       " 0.028,\n",
       " 0.032,\n",
       " 0.108,\n",
       " 0.1,\n",
       " 0.05,\n",
       " 0.952,\n",
       " 0.1,\n",
       " 0.594,\n",
       " 0.12,\n",
       " 0.626,\n",
       " 0.12,\n",
       " 0.1,\n",
       " 0.1,\n",
       " 0.06,\n",
       " 0.18,\n",
       " 0.8]"
      ]
     },
     "execution_count": 217,
     "metadata": {},
     "output_type": "execute_result"
    }
   ],
   "source": [
    "c_slave_2"
   ]
  },
  {
   "cell_type": "code",
   "execution_count": 218,
   "metadata": {},
   "outputs": [
    {
     "data": {
      "text/plain": [
       "[0.16,\n",
       " 0.09333333333333334,\n",
       " 0.09333333333333334,\n",
       " 0.10666666666666667,\n",
       " 0.36,\n",
       " 0.3333333333333333,\n",
       " 0.16666666666666666,\n",
       " 3.1733333333333333,\n",
       " 0.3333333333333333,\n",
       " 1.98,\n",
       " 0.4,\n",
       " 2.0866666666666664,\n",
       " 0.4,\n",
       " 0.3333333333333333,\n",
       " 0.3333333333333333,\n",
       " 0.2,\n",
       " 0.6,\n",
       " 2.6666666666666665]"
      ]
     },
     "execution_count": 218,
     "metadata": {},
     "output_type": "execute_result"
    }
   ],
   "source": [
    "c_slave_3"
   ]
  },
  {
   "cell_type": "code",
   "execution_count": 219,
   "metadata": {},
   "outputs": [
    {
     "data": {
      "text/plain": [
       "0.16666666666666666"
      ]
     },
     "execution_count": 219,
     "metadata": {},
     "output_type": "execute_result"
    }
   ],
   "source": [
    "statistics.median(c_slave_1)"
   ]
  },
  {
   "cell_type": "code",
   "execution_count": 220,
   "metadata": {},
   "outputs": [
    {
     "data": {
      "text/plain": [
       "0.1"
      ]
     },
     "execution_count": 220,
     "metadata": {},
     "output_type": "execute_result"
    }
   ],
   "source": [
    "statistics.median(c_slave_2)"
   ]
  },
  {
   "cell_type": "code",
   "execution_count": 221,
   "metadata": {},
   "outputs": [
    {
     "data": {
      "text/plain": [
       "0.3333333333333333"
      ]
     },
     "execution_count": 221,
     "metadata": {},
     "output_type": "execute_result"
    }
   ],
   "source": [
    "statistics.median(c_slave_3)"
   ]
  },
  {
   "cell_type": "code",
   "execution_count": 222,
   "metadata": {},
   "outputs": [
    {
     "data": {
      "text/plain": [
       "[0.12,\n",
       " 0.07,\n",
       " 0.07,\n",
       " 0.08,\n",
       " 0.27,\n",
       " 0.25,\n",
       " 0.125,\n",
       " 2.38,\n",
       " 0.25,\n",
       " 2.61,\n",
       " 0.3,\n",
       " 1.565,\n",
       " 0.3,\n",
       " 0.25,\n",
       " 0.25,\n",
       " 0.15,\n",
       " 0.45,\n",
       " 2.3333333333333335]"
      ]
     },
     "execution_count": 222,
     "metadata": {},
     "output_type": "execute_result"
    }
   ],
   "source": [
    "e_slave_1"
   ]
  },
  {
   "cell_type": "code",
   "execution_count": 314,
   "metadata": {},
   "outputs": [],
   "source": [
    "e_slave_1 = [str(x) for x in e_slave_1]"
   ]
  },
  {
   "cell_type": "code",
   "execution_count": 315,
   "metadata": {},
   "outputs": [
    {
     "data": {
      "text/plain": [
       "['0.12',\n",
       " '0.07',\n",
       " '0.07',\n",
       " '0.08',\n",
       " '0.27',\n",
       " '0.25',\n",
       " '0.125',\n",
       " '2.38',\n",
       " '0.25',\n",
       " '2.61',\n",
       " '0.3',\n",
       " '1.565',\n",
       " '0.3',\n",
       " '0.25',\n",
       " '0.25',\n",
       " '0.15',\n",
       " '0.45',\n",
       " '2.3333333333333335']"
      ]
     },
     "execution_count": 315,
     "metadata": {},
     "output_type": "execute_result"
    }
   ],
   "source": [
    "e_slave_1"
   ]
  },
  {
   "cell_type": "code",
   "execution_count": 223,
   "metadata": {},
   "outputs": [
    {
     "data": {
      "text/plain": [
       "[0.072,\n",
       " 0.042,\n",
       " 0.042,\n",
       " 0.048,\n",
       " 0.162,\n",
       " 0.15,\n",
       " 0.075,\n",
       " 1.428,\n",
       " 0.15,\n",
       " 1.566,\n",
       " 0.18,\n",
       " 0.939,\n",
       " 0.18,\n",
       " 0.15,\n",
       " 0.15,\n",
       " 0.09,\n",
       " 0.27,\n",
       " 1.4]"
      ]
     },
     "execution_count": 223,
     "metadata": {},
     "output_type": "execute_result"
    }
   ],
   "source": [
    "e_slave_2"
   ]
  },
  {
   "cell_type": "code",
   "execution_count": 224,
   "metadata": {},
   "outputs": [
    {
     "data": {
      "text/plain": [
       "[0.24,\n",
       " 0.14,\n",
       " 0.14,\n",
       " 0.16,\n",
       " 0.54,\n",
       " 0.5,\n",
       " 0.25,\n",
       " 4.76,\n",
       " 0.5,\n",
       " 5.22,\n",
       " 0.6,\n",
       " 3.13,\n",
       " 0.6,\n",
       " 0.5,\n",
       " 0.5,\n",
       " 0.3,\n",
       " 0.9,\n",
       " 4.666666666666667]"
      ]
     },
     "execution_count": 224,
     "metadata": {},
     "output_type": "execute_result"
    }
   ],
   "source": [
    "e_slave_3"
   ]
  },
  {
   "cell_type": "code",
   "execution_count": 225,
   "metadata": {},
   "outputs": [
    {
     "data": {
      "text/plain": [
       "0.25"
      ]
     },
     "execution_count": 225,
     "metadata": {},
     "output_type": "execute_result"
    }
   ],
   "source": [
    "statistics.median(e_slave_1)"
   ]
  },
  {
   "cell_type": "code",
   "execution_count": 226,
   "metadata": {},
   "outputs": [
    {
     "data": {
      "text/plain": [
       "0.15"
      ]
     },
     "execution_count": 226,
     "metadata": {},
     "output_type": "execute_result"
    }
   ],
   "source": [
    "statistics.median(e_slave_2)"
   ]
  },
  {
   "cell_type": "code",
   "execution_count": 227,
   "metadata": {},
   "outputs": [
    {
     "data": {
      "text/plain": [
       "0.5"
      ]
     },
     "execution_count": 227,
     "metadata": {},
     "output_type": "execute_result"
    }
   ],
   "source": [
    "statistics.median(e_slave_3)"
   ]
  },
  {
   "cell_type": "code",
   "execution_count": 228,
   "metadata": {},
   "outputs": [],
   "source": [
    "slave_macro_1 = [x/slave_1 for x in allies_add_list]"
   ]
  },
  {
   "cell_type": "code",
   "execution_count": 229,
   "metadata": {},
   "outputs": [
    {
     "data": {
      "text/plain": [
       "[530.0,\n",
       " 695.3333333333334,\n",
       " 695.3333333333334,\n",
       " 802.6666666666666,\n",
       " 2653.6666666666665,\n",
       " 2483.3333333333335,\n",
       " 1241.6666666666667,\n",
       " 23641.333333333332,\n",
       " 2483.3333333333335,\n",
       " 16438.5,\n",
       " 2780.0,\n",
       " 12436.533333333333,\n",
       " 2373.3333333333335,\n",
       " 1986.6666666666667,\n",
       " 1986.6666666666667,\n",
       " 894.0,\n",
       " 3576.0,\n",
       " 27120.0]"
      ]
     },
     "execution_count": 229,
     "metadata": {},
     "output_type": "execute_result"
    }
   ],
   "source": [
    "slave_macro_1"
   ]
  },
  {
   "cell_type": "code",
   "execution_count": 230,
   "metadata": {},
   "outputs": [],
   "source": [
    "slave_macro_2 = [x/slave_2 for x in allies_add_list]"
   ]
  },
  {
   "cell_type": "code",
   "execution_count": 231,
   "metadata": {},
   "outputs": [
    {
     "data": {
      "text/plain": [
       "[318.0,\n",
       " 417.2,\n",
       " 417.2,\n",
       " 481.6,\n",
       " 1592.2,\n",
       " 1490.0,\n",
       " 745.0,\n",
       " 14184.8,\n",
       " 1490.0,\n",
       " 9863.1,\n",
       " 1668.0,\n",
       " 7461.92,\n",
       " 1424.0,\n",
       " 1192.0,\n",
       " 1192.0,\n",
       " 536.4,\n",
       " 2145.6,\n",
       " 16272.0]"
      ]
     },
     "execution_count": 231,
     "metadata": {},
     "output_type": "execute_result"
    }
   ],
   "source": [
    "slave_macro_2"
   ]
  },
  {
   "cell_type": "code",
   "execution_count": 232,
   "metadata": {},
   "outputs": [],
   "source": [
    "slave_macro_3 = [x/slave_3 for x in allies_add_list]"
   ]
  },
  {
   "cell_type": "code",
   "execution_count": 233,
   "metadata": {},
   "outputs": [
    {
     "data": {
      "text/plain": [
       "[1060.0,\n",
       " 1390.6666666666667,\n",
       " 1390.6666666666667,\n",
       " 1605.3333333333333,\n",
       " 5307.333333333333,\n",
       " 4966.666666666667,\n",
       " 2483.3333333333335,\n",
       " 47282.666666666664,\n",
       " 4966.666666666667,\n",
       " 32877.0,\n",
       " 5560.0,\n",
       " 24873.066666666666,\n",
       " 4746.666666666667,\n",
       " 3973.3333333333335,\n",
       " 3973.3333333333335,\n",
       " 1788.0,\n",
       " 7152.0,\n",
       " 54240.0]"
      ]
     },
     "execution_count": 233,
     "metadata": {},
     "output_type": "execute_result"
    }
   ],
   "source": [
    "slave_macro_3"
   ]
  },
  {
   "cell_type": "code",
   "execution_count": 234,
   "metadata": {},
   "outputs": [
    {
     "data": {
      "text/plain": [
       "2428.3333333333335"
      ]
     },
     "execution_count": 234,
     "metadata": {},
     "output_type": "execute_result"
    }
   ],
   "source": [
    "statistics.median(slave_macro_1)"
   ]
  },
  {
   "cell_type": "code",
   "execution_count": 235,
   "metadata": {},
   "outputs": [
    {
     "data": {
      "text/plain": [
       "5823.242592592593"
      ]
     },
     "execution_count": 235,
     "metadata": {},
     "output_type": "execute_result"
    }
   ],
   "source": [
    "statistics.mean(slave_macro_1)"
   ]
  },
  {
   "cell_type": "code",
   "execution_count": 236,
   "metadata": {},
   "outputs": [
    {
     "data": {
      "text/plain": [
       "1457.0"
      ]
     },
     "execution_count": 236,
     "metadata": {},
     "output_type": "execute_result"
    }
   ],
   "source": [
    "statistics.median(slave_macro_2)"
   ]
  },
  {
   "cell_type": "code",
   "execution_count": 237,
   "metadata": {},
   "outputs": [
    {
     "data": {
      "text/plain": [
       "3493.9455555555555"
      ]
     },
     "execution_count": 237,
     "metadata": {},
     "output_type": "execute_result"
    }
   ],
   "source": [
    "statistics.mean(slave_macro_2)"
   ]
  },
  {
   "cell_type": "code",
   "execution_count": 238,
   "metadata": {},
   "outputs": [
    {
     "data": {
      "text/plain": [
       "4856.666666666667"
      ]
     },
     "execution_count": 238,
     "metadata": {},
     "output_type": "execute_result"
    }
   ],
   "source": [
    "statistics.median(slave_macro_3)"
   ]
  },
  {
   "cell_type": "code",
   "execution_count": 239,
   "metadata": {},
   "outputs": [
    {
     "data": {
      "text/plain": [
       "11646.485185185185"
      ]
     },
     "execution_count": 239,
     "metadata": {},
     "output_type": "execute_result"
    }
   ],
   "source": [
    "statistics.mean(slave_macro_3)"
   ]
  },
  {
   "cell_type": "code",
   "execution_count": 240,
   "metadata": {},
   "outputs": [
    {
     "name": "stdout",
     "output_type": "stream",
     "text": [
      "530.0\n",
      "1225.3333333333335\n",
      "1920.666666666667\n",
      "2723.3333333333335\n",
      "5377.0\n",
      "7860.333333333334\n",
      "9102.0\n",
      "32743.333333333332\n",
      "35226.666666666664\n",
      "51665.166666666664\n",
      "54445.166666666664\n",
      "66881.7\n",
      "69255.03333333333\n",
      "71241.7\n",
      "73228.36666666667\n",
      "74122.36666666667\n",
      "77698.36666666667\n",
      "104818.36666666667\n",
      "total slaves bought, scenario 1: 104818.36666666667\n"
     ]
    }
   ],
   "source": [
    "counter = 0\n",
    "for x in slave_macro_1:\n",
    "    counter += x\n",
    "    print(counter)\n",
    "print(\"total slaves bought, scenario 1: \" + str(counter))"
   ]
  },
  {
   "cell_type": "code",
   "execution_count": 241,
   "metadata": {},
   "outputs": [
    {
     "name": "stdout",
     "output_type": "stream",
     "text": [
      "318.0\n",
      "735.2\n",
      "1152.4\n",
      "1634.0\n",
      "3226.2\n",
      "4716.2\n",
      "5461.2\n",
      "19646.0\n",
      "21136.0\n",
      "30999.1\n",
      "32667.1\n",
      "40129.02\n",
      "41553.02\n",
      "42745.02\n",
      "43937.02\n",
      "44473.42\n",
      "46619.02\n",
      "62891.02\n",
      "total slaves bought, scenario 2: 62891.02\n"
     ]
    }
   ],
   "source": [
    "counter = 0\n",
    "for x in slave_macro_2:\n",
    "    counter += x\n",
    "    print(counter)\n",
    "print(\"total slaves bought, scenario 2: \" + str(counter))"
   ]
  },
  {
   "cell_type": "code",
   "execution_count": 242,
   "metadata": {},
   "outputs": [
    {
     "name": "stdout",
     "output_type": "stream",
     "text": [
      "1060.0\n",
      "2450.666666666667\n",
      "3841.333333333334\n",
      "5446.666666666667\n",
      "10754.0\n",
      "15720.666666666668\n",
      "18204.0\n",
      "65486.666666666664\n",
      "70453.33333333333\n",
      "103330.33333333333\n",
      "108890.33333333333\n",
      "133763.4\n",
      "138510.06666666665\n",
      "142483.4\n",
      "146456.73333333334\n",
      "148244.73333333334\n",
      "155396.73333333334\n",
      "209636.73333333334\n",
      "total slaves bought, scenario 3: 209636.73333333334\n"
     ]
    }
   ],
   "source": [
    "counter = 0\n",
    "for x in slave_macro_3:\n",
    "    counter += x\n",
    "    print(counter)\n",
    "print(\"total slaves bought, scenario 3: \" + str(counter))"
   ]
  },
  {
   "cell_type": "code",
   "execution_count": 243,
   "metadata": {},
   "outputs": [],
   "source": [
    "legion_1 = (4940 + 60 + 300) * 2.5"
   ]
  },
  {
   "cell_type": "code",
   "execution_count": 244,
   "metadata": {},
   "outputs": [],
   "source": [
    "legion_2 = (4940 + 60 + 300) *2"
   ]
  },
  {
   "cell_type": "code",
   "execution_count": 245,
   "metadata": {},
   "outputs": [
    {
     "data": {
      "text/plain": [
       "13250.0"
      ]
     },
     "execution_count": 245,
     "metadata": {},
     "output_type": "execute_result"
    }
   ],
   "source": [
    "legion_1"
   ]
  },
  {
   "cell_type": "code",
   "execution_count": 246,
   "metadata": {},
   "outputs": [
    {
     "data": {
      "text/plain": [
       "10600"
      ]
     },
     "execution_count": 246,
     "metadata": {},
     "output_type": "execute_result"
    }
   ],
   "source": [
    "legion_2"
   ]
  },
  {
   "cell_type": "code",
   "execution_count": 247,
   "metadata": {},
   "outputs": [
    {
     "data": {
      "text/plain": [
       "106000"
      ]
     },
     "execution_count": 247,
     "metadata": {},
     "output_type": "execute_result"
    }
   ],
   "source": [
    "legion_2*10"
   ]
  },
  {
   "cell_type": "code",
   "execution_count": 248,
   "metadata": {},
   "outputs": [],
   "source": [
    " l = [44, 33, 44, 33, 55, 55, 44, 44, 55, 66, 71.5, 66, 66, 44, 55, 44, 44, 44, 55, 44, 44, 44, 38.5, 38.5, 55, 38.5, 38.5, 38.5, 33, 56, 56, 45.6, 58.2]"
   ]
  },
  {
   "cell_type": "code",
   "execution_count": 249,
   "metadata": {},
   "outputs": [],
   "source": [
    "legions = [x*1000 for x in l]"
   ]
  },
  {
   "cell_type": "code",
   "execution_count": 250,
   "metadata": {},
   "outputs": [
    {
     "data": {
      "text/plain": [
       "[44000,\n",
       " 33000,\n",
       " 44000,\n",
       " 33000,\n",
       " 55000,\n",
       " 55000,\n",
       " 44000,\n",
       " 44000,\n",
       " 55000,\n",
       " 66000,\n",
       " 71500.0,\n",
       " 66000,\n",
       " 66000,\n",
       " 44000,\n",
       " 55000,\n",
       " 44000,\n",
       " 44000,\n",
       " 44000,\n",
       " 55000,\n",
       " 44000,\n",
       " 44000,\n",
       " 44000,\n",
       " 38500.0,\n",
       " 38500.0,\n",
       " 55000,\n",
       " 38500.0,\n",
       " 38500.0,\n",
       " 38500.0,\n",
       " 33000,\n",
       " 56000,\n",
       " 56000,\n",
       " 45600.0,\n",
       " 58200.0]"
      ]
     },
     "execution_count": 250,
     "metadata": {},
     "output_type": "execute_result"
    }
   ],
   "source": [
    "legions"
   ]
  },
  {
   "cell_type": "code",
   "execution_count": 251,
   "metadata": {},
   "outputs": [],
   "source": [
    "legions_1 = [44000,\n",
    " 33000,\n",
    " 44000,\n",
    " 33000,\n",
    " 55000,\n",
    " 55000,\n",
    " 44000,\n",
    " 44000,\n",
    " 55000,\n",
    " 66000,\n",
    " 71500.0,\n",
    " 66000,\n",
    " 66000,\n",
    " 44000,\n",
    " 55000,\n",
    " 44000,\n",
    " 44000,\n",
    " 44000,\n",
    " 55000,\n",
    " 44000,\n",
    " 44000]"
   ]
  },
  {
   "cell_type": "code",
   "execution_count": 252,
   "metadata": {},
   "outputs": [],
   "source": [
    "legions_2 = [ 44000,\n",
    " 38500.0,\n",
    " 38500.0,\n",
    " 55000,\n",
    " 38500.0,\n",
    " 38500.0,\n",
    " 38500.0,\n",
    " 33000,\n",
    " 56000,\n",
    " 56000,\n",
    " 45600.0,\n",
    " 58200.0]"
   ]
  },
  {
   "cell_type": "code",
   "execution_count": 253,
   "metadata": {},
   "outputs": [],
   "source": [
    "allies_add_legions_1 = [x*2.5 for x in legions_1]"
   ]
  },
  {
   "cell_type": "code",
   "execution_count": 254,
   "metadata": {},
   "outputs": [],
   "source": [
    "allies_add_legions_2 = [x*2 for x in legions_2]"
   ]
  },
  {
   "cell_type": "code",
   "execution_count": 255,
   "metadata": {},
   "outputs": [],
   "source": [
    "allies_add_legions_list = allies_add_legions_1 + allies_add_legions_2"
   ]
  },
  {
   "cell_type": "code",
   "execution_count": 256,
   "metadata": {
    "scrolled": false
   },
   "outputs": [
    {
     "data": {
      "text/plain": [
       "[110000.0,\n",
       " 82500.0,\n",
       " 110000.0,\n",
       " 82500.0,\n",
       " 137500.0,\n",
       " 137500.0,\n",
       " 110000.0,\n",
       " 110000.0,\n",
       " 137500.0,\n",
       " 165000.0,\n",
       " 178750.0,\n",
       " 165000.0,\n",
       " 165000.0,\n",
       " 110000.0,\n",
       " 137500.0,\n",
       " 110000.0,\n",
       " 110000.0,\n",
       " 110000.0,\n",
       " 137500.0,\n",
       " 110000.0,\n",
       " 110000.0,\n",
       " 88000,\n",
       " 77000.0,\n",
       " 77000.0,\n",
       " 110000,\n",
       " 77000.0,\n",
       " 77000.0,\n",
       " 77000.0,\n",
       " 66000,\n",
       " 112000,\n",
       " 112000,\n",
       " 91200.0,\n",
       " 116400.0]"
      ]
     },
     "execution_count": 256,
     "metadata": {},
     "output_type": "execute_result"
    }
   ],
   "source": [
    "allies_add_legions_list"
   ]
  },
  {
   "cell_type": "code",
   "execution_count": 257,
   "metadata": {},
   "outputs": [],
   "source": [
    "five_four_dif = 25000-11000\n",
    "four_three_dif = 50000-25000\n",
    "three_two_dif = 75000-50000\n",
    "two_one_dif = 100000-75000\n",
    "five_one_dif = 100000-11000"
   ]
  },
  {
   "cell_type": "code",
   "execution_count": 258,
   "metadata": {},
   "outputs": [
    {
     "data": {
      "text/plain": [
       "14000"
      ]
     },
     "execution_count": 258,
     "metadata": {},
     "output_type": "execute_result"
    }
   ],
   "source": [
    "five_four_dif"
   ]
  },
  {
   "cell_type": "code",
   "execution_count": 259,
   "metadata": {},
   "outputs": [],
   "source": [
    "five_to_four = [x/five_four_dif*100 for x in withDP]"
   ]
  },
  {
   "cell_type": "code",
   "execution_count": 260,
   "metadata": {},
   "outputs": [],
   "source": [
    "five_to_four_c = [x/five_four_dif*100 for x in CwithDP]"
   ]
  },
  {
   "cell_type": "code",
   "execution_count": 261,
   "metadata": {},
   "outputs": [
    {
     "data": {
      "text/plain": [
       "[0.8571428571428572,\n",
       " 0.5,\n",
       " 0.5,\n",
       " 0.5714285714285714,\n",
       " 1.9285714285714284,\n",
       " 1.7857142857142856,\n",
       " 0.8928571428571428,\n",
       " 17.0,\n",
       " 1.7857142857142856,\n",
       " 10.607142857142856,\n",
       " 2.142857142857143,\n",
       " 11.178571428571429,\n",
       " 2.142857142857143,\n",
       " 1.7857142857142856,\n",
       " 1.7857142857142856,\n",
       " 1.0714285714285714,\n",
       " 3.214285714285714,\n",
       " 21.428571428571427]"
      ]
     },
     "execution_count": 261,
     "metadata": {},
     "output_type": "execute_result"
    }
   ],
   "source": [
    "five_to_four"
   ]
  },
  {
   "cell_type": "code",
   "execution_count": 262,
   "metadata": {},
   "outputs": [
    {
     "data": {
      "text/plain": [
       "[1.7142857142857144,\n",
       " 1.0,\n",
       " 1.0,\n",
       " 1.1428571428571428,\n",
       " 3.8571428571428568,\n",
       " 3.571428571428571,\n",
       " 1.7857142857142856,\n",
       " 34.0,\n",
       " 3.571428571428571,\n",
       " 21.21428571428571,\n",
       " 4.285714285714286,\n",
       " 22.357142857142858,\n",
       " 4.285714285714286,\n",
       " 3.571428571428571,\n",
       " 3.571428571428571,\n",
       " 2.142857142857143,\n",
       " 6.428571428571428,\n",
       " 28.57142857142857]"
      ]
     },
     "execution_count": 262,
     "metadata": {},
     "output_type": "execute_result"
    }
   ],
   "source": [
    "five_to_four_c"
   ]
  },
  {
   "cell_type": "code",
   "execution_count": 263,
   "metadata": {},
   "outputs": [],
   "source": [
    "four_to_three = [x/four_three_dif*100 for x in withDP]"
   ]
  },
  {
   "cell_type": "code",
   "execution_count": 264,
   "metadata": {},
   "outputs": [],
   "source": [
    "four_to_three_c = [x/four_three_dif*100 for x in CwithDP]"
   ]
  },
  {
   "cell_type": "code",
   "execution_count": 265,
   "metadata": {},
   "outputs": [
    {
     "data": {
      "text/plain": [
       "[0.48,\n",
       " 0.27999999999999997,\n",
       " 0.27999999999999997,\n",
       " 0.32,\n",
       " 1.08,\n",
       " 1.0,\n",
       " 0.5,\n",
       " 9.520000000000001,\n",
       " 1.0,\n",
       " 5.94,\n",
       " 1.2,\n",
       " 6.260000000000001,\n",
       " 1.2,\n",
       " 1.0,\n",
       " 1.0,\n",
       " 0.6,\n",
       " 1.7999999999999998,\n",
       " 12.0]"
      ]
     },
     "execution_count": 265,
     "metadata": {},
     "output_type": "execute_result"
    }
   ],
   "source": [
    "four_to_three"
   ]
  },
  {
   "cell_type": "code",
   "execution_count": 266,
   "metadata": {},
   "outputs": [
    {
     "data": {
      "text/plain": [
       "[0.96,\n",
       " 0.5599999999999999,\n",
       " 0.5599999999999999,\n",
       " 0.64,\n",
       " 2.16,\n",
       " 2.0,\n",
       " 1.0,\n",
       " 19.040000000000003,\n",
       " 2.0,\n",
       " 11.88,\n",
       " 2.4,\n",
       " 12.520000000000001,\n",
       " 2.4,\n",
       " 2.0,\n",
       " 2.0,\n",
       " 1.2,\n",
       " 3.5999999999999996,\n",
       " 16.0]"
      ]
     },
     "execution_count": 266,
     "metadata": {},
     "output_type": "execute_result"
    }
   ],
   "source": [
    "four_to_three_c"
   ]
  },
  {
   "cell_type": "code",
   "execution_count": 267,
   "metadata": {},
   "outputs": [
    {
     "data": {
      "text/plain": [
       "89000"
      ]
     },
     "execution_count": 267,
     "metadata": {},
     "output_type": "execute_result"
    }
   ],
   "source": [
    "five_one_dif"
   ]
  },
  {
   "cell_type": "code",
   "execution_count": 268,
   "metadata": {},
   "outputs": [],
   "source": [
    "five_to_one = [x/five_one_dif*100 for x in withDP]"
   ]
  },
  {
   "cell_type": "code",
   "execution_count": 269,
   "metadata": {},
   "outputs": [],
   "source": [
    "five_to_one_c = [x/five_one_dif*100 for x in CwithDP]"
   ]
  },
  {
   "cell_type": "code",
   "execution_count": 270,
   "metadata": {},
   "outputs": [
    {
     "data": {
      "text/plain": [
       "[0.1348314606741573,\n",
       " 0.07865168539325842,\n",
       " 0.07865168539325842,\n",
       " 0.0898876404494382,\n",
       " 0.30337078651685395,\n",
       " 0.2808988764044944,\n",
       " 0.1404494382022472,\n",
       " 2.6741573033707864,\n",
       " 0.2808988764044944,\n",
       " 1.6685393258426968,\n",
       " 0.33707865168539325,\n",
       " 1.758426966292135,\n",
       " 0.33707865168539325,\n",
       " 0.2808988764044944,\n",
       " 0.2808988764044944,\n",
       " 0.16853932584269662,\n",
       " 0.5056179775280899,\n",
       " 3.3707865168539324]"
      ]
     },
     "execution_count": 270,
     "metadata": {},
     "output_type": "execute_result"
    }
   ],
   "source": [
    "five_to_one"
   ]
  },
  {
   "cell_type": "code",
   "execution_count": 271,
   "metadata": {},
   "outputs": [
    {
     "data": {
      "text/plain": [
       "[0.2696629213483146,\n",
       " 0.15730337078651685,\n",
       " 0.15730337078651685,\n",
       " 0.1797752808988764,\n",
       " 0.6067415730337079,\n",
       " 0.5617977528089888,\n",
       " 0.2808988764044944,\n",
       " 5.348314606741573,\n",
       " 0.5617977528089888,\n",
       " 3.3370786516853936,\n",
       " 0.6741573033707865,\n",
       " 3.51685393258427,\n",
       " 0.6741573033707865,\n",
       " 0.5617977528089888,\n",
       " 0.5617977528089888,\n",
       " 0.33707865168539325,\n",
       " 1.0112359550561798,\n",
       " 4.49438202247191]"
      ]
     },
     "execution_count": 271,
     "metadata": {},
     "output_type": "execute_result"
    }
   ],
   "source": [
    "five_to_one_c"
   ]
  },
  {
   "cell_type": "code",
   "execution_count": 272,
   "metadata": {},
   "outputs": [],
   "source": [
    "stipendia = [4800000,\n",
    "3600000,\n",
    "4800000,\n",
    "3600000,\n",
    "6000000,\n",
    "6000000,\n",
    "4800000,\n",
    "4800000,\n",
    "6000000,\n",
    "7200000,\n",
    "7800000,\n",
    "7200000,\n",
    "7200000,\n",
    "4800000,\n",
    "6000000,\n",
    "4800000,\n",
    "4800000,\n",
    "4800000,\n",
    "6000000,\n",
    "4800000,\n",
    "4800000,\n",
    "4800000,\n",
    "4200000,\n",
    "4200000,\n",
    "6000000,\n",
    "4200000,\n",
    "4200000,\n",
    "4200000,\n",
    "3600000,\n",
    "6000000,\n",
    "6000000,\n",
    "4800000,\n",
    "6000000]"
   ]
  },
  {
   "cell_type": "code",
   "execution_count": null,
   "metadata": {},
   "outputs": [],
   "source": []
  },
  {
   "cell_type": "code",
   "execution_count": 273,
   "metadata": {},
   "outputs": [
    {
     "name": "stdout",
     "output_type": "stream",
     "text": [
      "4800000\n",
      "8400000\n",
      "13200000\n",
      "16800000\n",
      "22800000\n",
      "28800000\n",
      "33600000\n",
      "38400000\n",
      "44400000\n",
      "51600000\n",
      "59400000\n",
      "66600000\n",
      "73800000\n",
      "78600000\n",
      "84600000\n",
      "89400000\n",
      "94200000\n",
      "99000000\n",
      "105000000\n",
      "109800000\n",
      "114600000\n",
      "119400000\n",
      "123600000\n",
      "127800000\n",
      "133800000\n",
      "138000000\n",
      "142200000\n",
      "146400000\n",
      "150000000\n",
      "156000000\n",
      "162000000\n",
      "166800000\n",
      "172800000\n",
      "total stipendium : 172800000\n"
     ]
    }
   ],
   "source": [
    "counter = 0\n",
    "for x in stipendia:\n",
    "    counter += x\n",
    "    print(counter)\n",
    "print(\"total stipendium : \" + str(counter))"
   ]
  },
  {
   "cell_type": "code",
   "execution_count": 274,
   "metadata": {},
   "outputs": [],
   "source": [
    "cumulative_bonus = [\n",
    "    159000,\n",
    "208600,\n",
    "208600,\n",
    "240800,\n",
    "796100,\n",
    "745000,\n",
    "372500,\n",
    "7092400,\n",
    "745000,\n",
    "4425300,\n",
    "834000,\n",
    "3730960,\n",
    "712000,\n",
    "596000,\n",
    "596000,\n",
    "268200,\n",
    "1072800,\n",
    "8136000\n",
    "]"
   ]
  },
  {
   "cell_type": "code",
   "execution_count": 299,
   "metadata": {},
   "outputs": [],
   "source": [
    "simplify_bonus = [x/1000 for x in cumulative_bonus]"
   ]
  },
  {
   "cell_type": "code",
   "execution_count": 301,
   "metadata": {},
   "outputs": [
    {
     "name": "stdout",
     "output_type": "stream",
     "text": [
      "159000\n",
      "367600\n",
      "576200\n",
      "817000\n",
      "1613100\n",
      "2358100\n",
      "2730600\n",
      "9823000\n",
      "10568000\n",
      "14993300\n",
      "15827300\n",
      "19558260\n",
      "20270260\n",
      "20866260\n",
      "21462260\n",
      "21730460\n",
      "22803260\n",
      "30939260\n",
      "total bonus : 30939260\n"
     ]
    }
   ],
   "source": [
    "counter = 0\n",
    "for x in cumulative_bonus:\n",
    "    counter += x\n",
    "    print(counter)\n",
    "print(\"total bonus : \" + str(counter))"
   ]
  },
  {
   "cell_type": "code",
   "execution_count": 276,
   "metadata": {},
   "outputs": [],
   "source": [
    "cumulative_deposit = [5670000,\n",
    "102750,\n",
    "78600,\n",
    "266000,\n",
    "3939000,\n",
    "5338776,\n",
    "638040,\n",
    "16727210,\n",
    "7943848,\n",
    "21388200,\n",
    "0,\n",
    "0,\n",
    "0,\n",
    "3360000,\n",
    "1680000,\n",
    "371277,\n",
    "217276,\n",
    "30000000]"
   ]
  },
  {
   "cell_type": "code",
   "execution_count": 277,
   "metadata": {},
   "outputs": [
    {
     "name": "stdout",
     "output_type": "stream",
     "text": [
      "5670000\n",
      "5772750\n",
      "5851350\n",
      "6117350\n",
      "10056350\n",
      "15395126\n",
      "16033166\n",
      "32760376\n",
      "40704224\n",
      "62092424\n",
      "62092424\n",
      "62092424\n",
      "62092424\n",
      "65452424\n",
      "67132424\n",
      "67503701\n",
      "67720977\n",
      "97720977\n",
      "total deposit : 97720977\n"
     ]
    }
   ],
   "source": [
    "counter = 0\n",
    "for x in cumulative_deposit:\n",
    "    counter += x\n",
    "    print(counter)\n",
    "print(\"total deposit : \" + str(counter))"
   ]
  },
  {
   "cell_type": "code",
   "execution_count": 278,
   "metadata": {},
   "outputs": [],
   "source": [
    "simplify_deposit = [x/1000 for x in cumulative_deposit]"
   ]
  },
  {
   "cell_type": "code",
   "execution_count": 279,
   "metadata": {},
   "outputs": [
    {
     "name": "stdout",
     "output_type": "stream",
     "text": [
      "5670.0\n",
      "5772.75\n",
      "5851.35\n",
      "6117.35\n",
      "10056.35\n",
      "15395.126\n",
      "16033.166000000001\n",
      "32760.376\n",
      "40704.224\n",
      "62092.424\n",
      "62092.424\n",
      "62092.424\n",
      "62092.424\n",
      "65452.424\n",
      "67132.424\n",
      "67503.701\n",
      "67720.977\n",
      "97720.977\n",
      "total deposit : 97720.977\n"
     ]
    }
   ],
   "source": [
    "counter = 0\n",
    "for x in simplify_deposit:\n",
    "    counter += x\n",
    "    print(counter)\n",
    "print(\"total deposit : \" + str(counter))"
   ]
  },
  {
   "cell_type": "code",
   "execution_count": 280,
   "metadata": {},
   "outputs": [],
   "source": [
    "ratios = [35.660,\n",
    "0.493,\n",
    "0.377,\n",
    "1.105,\n",
    "4.948,\n",
    "7.166,\n",
    "1.713,\n",
    "2.358,\n",
    "10.663,\n",
    "4.833,\n",
    "0.046,\n",
    "5.638,\n",
    "2.819,\n",
    "1.384,\n",
    "0.203,\n",
    "5.900]"
   ]
  },
  {
   "cell_type": "code",
   "execution_count": 281,
   "metadata": {},
   "outputs": [
    {
     "data": {
      "text/plain": [
       "5.331625"
      ]
     },
     "execution_count": 281,
     "metadata": {},
     "output_type": "execute_result"
    }
   ],
   "source": [
    "statistics.mean(ratios)"
   ]
  },
  {
   "cell_type": "code",
   "execution_count": 282,
   "metadata": {},
   "outputs": [],
   "source": [
    "s = [10.02,\n",
    "5.85,\n",
    "5.85,\n",
    "6.68,\n",
    "22.55,\n",
    "20.88,\n",
    "10.44,\n",
    "198.75,\n",
    "20.88,\n",
    "124.01,\n",
    "25.05,\n",
    "130.69,\n",
    "25.05,\n",
    "20.88,\n",
    "20.88,\n",
    "12.53,\n",
    "37.58,\n",
    "250.52]"
   ]
  },
  {
   "cell_type": "code",
   "execution_count": 283,
   "metadata": {},
   "outputs": [
    {
     "data": {
      "text/plain": [
       "52.727222222222224"
      ]
     },
     "execution_count": 283,
     "metadata": {},
     "output_type": "execute_result"
    }
   ],
   "source": [
    "statistics.mean(s)"
   ]
  },
  {
   "cell_type": "code",
   "execution_count": 284,
   "metadata": {},
   "outputs": [
    {
     "data": {
      "text/plain": [
       "20.88"
      ]
     },
     "execution_count": 284,
     "metadata": {},
     "output_type": "execute_result"
    }
   ],
   "source": [
    "statistics.median(s)"
   ]
  },
  {
   "cell_type": "code",
   "execution_count": 285,
   "metadata": {},
   "outputs": [
    {
     "data": {
      "text/plain": [
       "18"
      ]
     },
     "execution_count": 285,
     "metadata": {},
     "output_type": "execute_result"
    }
   ],
   "source": [
    "len(s)"
   ]
  },
  {
   "cell_type": "code",
   "execution_count": 286,
   "metadata": {},
   "outputs": [
    {
     "data": {
      "text/plain": [
       "20.885547201336674"
      ]
     },
     "execution_count": 286,
     "metadata": {},
     "output_type": "execute_result"
    }
   ],
   "source": [
    "(25/119.7)*100"
   ]
  },
  {
   "cell_type": "code",
   "execution_count": 287,
   "metadata": {},
   "outputs": [
    {
     "data": {
      "text/plain": [
       "58.139534883720934"
      ]
     },
     "execution_count": 287,
     "metadata": {},
     "output_type": "execute_result"
    }
   ],
   "source": [
    "(25/43)*100"
   ]
  },
  {
   "cell_type": "code",
   "execution_count": 288,
   "metadata": {},
   "outputs": [
    {
     "data": {
      "text/plain": [
       "1235000.0"
      ]
     },
     "execution_count": 288,
     "metadata": {},
     "output_type": "execute_result"
    }
   ],
   "source": [
    "(((4940 * 2) * 2.5) * 50)"
   ]
  },
  {
   "cell_type": "code",
   "execution_count": 289,
   "metadata": {},
   "outputs": [
    {
     "data": {
      "text/plain": [
       "23.132643137678"
      ]
     },
     "execution_count": 289,
     "metadata": {},
     "output_type": "execute_result"
    }
   ],
   "source": [
    "(1235000/5338776)*100"
   ]
  },
  {
   "cell_type": "code",
   "execution_count": 290,
   "metadata": {},
   "outputs": [
    {
     "data": {
      "text/plain": [
       "10769200"
      ]
     },
     "execution_count": 290,
     "metadata": {},
     "output_type": "execute_result"
    }
   ],
   "source": [
    "436 * 24700"
   ]
  },
  {
   "cell_type": "code",
   "execution_count": 291,
   "metadata": {},
   "outputs": [
    {
     "data": {
      "text/plain": [
       "24700.0"
      ]
     },
     "execution_count": 291,
     "metadata": {},
     "output_type": "execute_result"
    }
   ],
   "source": [
    "((4940 * 2) * 2.5)"
   ]
  },
  {
   "cell_type": "code",
   "execution_count": 292,
   "metadata": {},
   "outputs": [
    {
     "data": {
      "text/plain": [
       "3.418803418803419"
      ]
     },
     "execution_count": 292,
     "metadata": {},
     "output_type": "execute_result"
    }
   ],
   "source": [
    "(25/731.25)*100"
   ]
  },
  {
   "cell_type": "code",
   "execution_count": 293,
   "metadata": {},
   "outputs": [
    {
     "data": {
      "text/plain": [
       "5.724753835585069"
      ]
     },
     "execution_count": 293,
     "metadata": {},
     "output_type": "execute_result"
    }
   ],
   "source": [
    "(25/436.7)*100"
   ]
  },
  {
   "cell_type": "code",
   "execution_count": 294,
   "metadata": {},
   "outputs": [
    {
     "data": {
      "text/plain": [
       "98100"
      ]
     },
     "execution_count": 294,
     "metadata": {},
     "output_type": "execute_result"
    }
   ],
   "source": [
    "(24700 * 3) + 24000"
   ]
  },
  {
   "cell_type": "code",
   "execution_count": 304,
   "metadata": {},
   "outputs": [
    {
     "data": {
      "text/plain": [
       "89400"
      ]
     },
     "execution_count": 304,
     "metadata": {},
     "output_type": "execute_result"
    }
   ],
   "source": [
    "(24700*2) + (20000) + (20000) "
   ]
  },
  {
   "cell_type": "code",
   "execution_count": 305,
   "metadata": {},
   "outputs": [
    {
     "data": {
      "text/plain": [
       "12.745318228630278"
      ]
     },
     "execution_count": 305,
     "metadata": {},
     "output_type": "execute_result"
    }
   ],
   "source": [
    "(30939260/242750000)*100"
   ]
  },
  {
   "cell_type": "code",
   "execution_count": null,
   "metadata": {},
   "outputs": [],
   "source": [
    "2427500000"
   ]
  },
  {
   "cell_type": "code",
   "execution_count": 43,
   "metadata": {},
   "outputs": [],
   "source": [
    "def gdp_200(x):\n",
    "    counter = 0\n",
    "    while counter < 50:\n",
    "        x -= (x*.0054)\n",
    "        counter += 1\n",
    "        print(x)\n"
   ]
  },
  {
   "cell_type": "code",
   "execution_count": 44,
   "metadata": {
    "scrolled": true
   },
   "outputs": [
    {
     "name": "stdout",
     "output_type": "stream",
     "text": [
      "2414391500.0\n",
      "2401353785.9\n",
      "2388386475.45614\n",
      "2375489188.488677\n",
      "2362661546.870838\n",
      "2349903174.5177355\n",
      "2337213697.3753395\n",
      "2324592743.4095125\n",
      "2312039942.5951014\n",
      "2299554926.905088\n",
      "2287137330.2998004\n",
      "2274786788.7161813\n",
      "2262502940.057114\n",
      "2250285424.1808057\n",
      "2238133882.890229\n",
      "2226047959.922622\n",
      "2214027300.93904\n",
      "2202071553.5139694\n",
      "2190180367.124994\n",
      "2178353393.142519\n",
      "2166590284.8195496\n",
      "2154890697.281524\n",
      "2143254287.5162039\n",
      "2131680714.3636165\n",
      "2120169638.506053\n",
      "2108720722.4581203\n",
      "2097333630.5568464\n",
      "2086008028.9518394\n",
      "2074743585.5954995\n",
      "2063539970.2332838\n",
      "2052396854.3940241\n",
      "2041313911.3802965\n",
      "2030290816.258843\n",
      "2019327245.8510451\n",
      "2008422878.7234495\n",
      "1997577395.1783428\n",
      "1986790477.2443798\n",
      "1976061808.6672602\n",
      "1965391074.900457\n",
      "1954777963.0959945\n",
      "1944222162.095276\n",
      "1933723362.4199617\n",
      "1923281256.262894\n",
      "1912895537.4790742\n",
      "1902565901.5766873\n",
      "1892292045.7081733\n",
      "1882073668.661349\n",
      "1871910470.8505778\n",
      "1861802154.3079848\n",
      "1851748422.6747217\n"
     ]
    }
   ],
   "source": [
    "gdp = 2427500000\n",
    "gdp_200(gdp)"
   ]
  },
  {
   "cell_type": "code",
   "execution_count": null,
   "metadata": {},
   "outputs": [],
   "source": [
    "gdb"
   ]
  },
  {
   "cell_type": "code",
   "execution_count": 45,
   "metadata": {},
   "outputs": [
    {
     "data": {
      "text/plain": [
       "7200000"
      ]
     },
     "execution_count": 45,
     "metadata": {},
     "output_type": "execute_result"
    }
   ],
   "source": [
    "((((6000) * 2) *2)* 300)"
   ]
  },
  {
   "cell_type": "code",
   "execution_count": 46,
   "metadata": {},
   "outputs": [
    {
     "data": {
      "text/plain": [
       "24000"
      ]
     },
     "execution_count": 46,
     "metadata": {},
     "output_type": "execute_result"
    }
   ],
   "source": [
    "6000 * 2 * 2"
   ]
  },
  {
   "cell_type": "code",
   "execution_count": 51,
   "metadata": {},
   "outputs": [
    {
     "data": {
      "text/plain": [
       "9600000"
      ]
     },
     "execution_count": 51,
     "metadata": {},
     "output_type": "execute_result"
    }
   ],
   "source": [
    "24000 * 400"
   ]
  },
  {
   "cell_type": "code",
   "execution_count": 52,
   "metadata": {},
   "outputs": [
    {
     "data": {
      "text/plain": [
       "25.945945945945947"
      ]
     },
     "execution_count": 52,
     "metadata": {},
     "output_type": "execute_result"
    }
   ],
   "source": [
    "(9600000/37000000) * 100"
   ]
  },
  {
   "cell_type": "code",
   "execution_count": 53,
   "metadata": {},
   "outputs": [
    {
     "data": {
      "text/plain": [
       "1159.5"
      ]
     },
     "execution_count": 53,
     "metadata": {},
     "output_type": "execute_result"
    }
   ],
   "source": [
    "(238*3) + (148.5 * 3)"
   ]
  },
  {
   "cell_type": "code",
   "execution_count": null,
   "metadata": {},
   "outputs": [],
   "source": [
    "(30936260/242750000) *100"
   ]
  },
  {
   "cell_type": "code",
   "execution_count": 2,
   "metadata": {},
   "outputs": [
    {
     "data": {
      "text/plain": [
       "39.84905660377358"
      ]
     },
     "execution_count": 2,
     "metadata": {},
     "output_type": "execute_result"
    }
   ],
   "source": [
    "(5632*150/21200)"
   ]
  },
  {
   "cell_type": "code",
   "execution_count": 3,
   "metadata": {},
   "outputs": [
    {
     "data": {
      "text/plain": [
       "79.69811320754717"
      ]
     },
     "execution_count": 3,
     "metadata": {},
     "output_type": "execute_result"
    }
   ],
   "source": [
    "(5632*300/21200)"
   ]
  },
  {
   "cell_type": "code",
   "execution_count": 4,
   "metadata": {},
   "outputs": [
    {
     "data": {
      "text/plain": [
       "132.83018867924528"
      ]
     },
     "execution_count": 4,
     "metadata": {},
     "output_type": "execute_result"
    }
   ],
   "source": [
    "(5632*500/21200)"
   ]
  },
  {
   "cell_type": "code",
   "execution_count": 12,
   "metadata": {},
   "outputs": [
    {
     "data": {
      "text/plain": [
       "4500000"
      ]
     },
     "execution_count": 12,
     "metadata": {},
     "output_type": "execute_result"
    }
   ],
   "source": [
    "150000*30"
   ]
  },
  {
   "cell_type": "code",
   "execution_count": 13,
   "metadata": {},
   "outputs": [
    {
     "data": {
      "text/plain": [
       "176.88679245283018"
      ]
     },
     "execution_count": 13,
     "metadata": {},
     "output_type": "execute_result"
    }
   ],
   "source": [
    "4500000/25440"
   ]
  },
  {
   "cell_type": "code",
   "execution_count": null,
   "metadata": {},
   "outputs": [],
   "source": []
  }
 ],
 "metadata": {
  "kernelspec": {
   "display_name": "Python 3",
   "language": "python",
   "name": "python3"
  },
  "language_info": {
   "codemirror_mode": {
    "name": "ipython",
    "version": 3
   },
   "file_extension": ".py",
   "mimetype": "text/x-python",
   "name": "python",
   "nbconvert_exporter": "python",
   "pygments_lexer": "ipython3",
   "version": "3.6.7"
  }
 },
 "nbformat": 4,
 "nbformat_minor": 2
}
